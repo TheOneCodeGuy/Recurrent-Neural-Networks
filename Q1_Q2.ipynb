{
 "cells": [
  {
   "cell_type": "code",
   "execution_count": 1,
   "metadata": {
    "colab": {
     "base_uri": "https://localhost:8080/",
     "height": 479
    },
    "colab_type": "code",
    "id": "1ttuirSPS8eP",
    "outputId": "0d477eff-af4f-4f31-f17a-14f7233a0212"
   },
   "outputs": [
    {
     "name": "stdout",
     "output_type": "stream",
     "text": [
      "Requirement already satisfied: torchtext==0.6 in c:\\users\\nithy\\anaconda3\\lib\\site-packages (0.6.0)\n",
      "Requirement already satisfied: tqdm in c:\\users\\nithy\\anaconda3\\lib\\site-packages (from torchtext==0.6) (4.46.0)\n",
      "Requirement already satisfied: requests in c:\\users\\nithy\\anaconda3\\lib\\site-packages (from torchtext==0.6) (2.22.0)\n",
      "Requirement already satisfied: torch in c:\\users\\nithy\\anaconda3\\lib\\site-packages (from torchtext==0.6) (1.5.0)\n",
      "Requirement already satisfied: numpy in c:\\users\\nithy\\anaconda3\\lib\\site-packages (from torchtext==0.6) (1.16.5)\n",
      "Requirement already satisfied: six in c:\\users\\nithy\\anaconda3\\lib\\site-packages (from torchtext==0.6) (1.12.0)\n",
      "Collecting sentencepiece (from torchtext==0.6)\n",
      "  Downloading https://files.pythonhosted.org/packages/78/c7/fb817b7f0e8a4df1b1973a8a66c4db6fe10794a679cb3f39cd27cd1e182c/sentencepiece-0.1.91-cp37-cp37m-win_amd64.whl (1.2MB)\n",
      "Requirement already satisfied: idna<2.9,>=2.5 in c:\\users\\nithy\\anaconda3\\lib\\site-packages (from requests->torchtext==0.6) (2.8)\n",
      "Requirement already satisfied: urllib3!=1.25.0,!=1.25.1,<1.26,>=1.21.1 in c:\\users\\nithy\\anaconda3\\lib\\site-packages (from requests->torchtext==0.6) (1.24.2)\n",
      "Requirement already satisfied: certifi>=2017.4.17 in c:\\users\\nithy\\anaconda3\\lib\\site-packages (from requests->torchtext==0.6) (2019.9.11)\n",
      "Requirement already satisfied: chardet<3.1.0,>=3.0.2 in c:\\users\\nithy\\anaconda3\\lib\\site-packages (from requests->torchtext==0.6) (3.0.4)\n",
      "Requirement already satisfied: future in c:\\users\\nithy\\anaconda3\\lib\\site-packages (from torch->torchtext==0.6) (0.18.2)\n",
      "Installing collected packages: sentencepiece\n",
      "Successfully installed sentencepiece-0.1.91\n"
     ]
    }
   ],
   "source": [
    "# Run onluy the first time!\n",
    "# from pyunpack import Archive\n",
    "# Archive('Images.zip').extractall('Assignment4_Images')\n",
    "!pip install torchtext==0.6"
   ]
  },
  {
   "cell_type": "code",
   "execution_count": 2,
   "metadata": {
    "colab": {
     "base_uri": "https://localhost:8080/",
     "height": 122
    },
    "colab_type": "code",
    "id": "lgMV2OMJS8eT",
    "outputId": "de3ba038-45d7-4949-9024-2551ebc41fcd"
   },
   "outputs": [],
   "source": [
    "import torch\n",
    "import torchvision\n",
    "import torchvision.transforms as transforms\n",
    "import tarfile\n",
    "import pandas as pd\n",
    "import os\n",
    "import re\n",
    "from torch.utils.data import Dataset, DataLoader, ConcatDataset, random_split\n",
    "import torch.nn as nn\n",
    "import torch.nn.functional as F\n",
    "import numpy as np\n",
    "import matplotlib.pyplot as plt\n",
    "import torch.optim as optim\n",
    "from sklearn.metrics import confusion_matrix\n",
    "from sklearn.decomposition import PCA\n",
    "from io import StringIO\n",
    "from PIL import Image\n",
    "from torchtext.vocab import GloVe\n",
    "from torchtext.data import Field\n",
    "from torchtext.data.metrics import bleu_score\n",
    "import torchtext\n",
    "from torchtext.data import get_tokenizer\n",
    "import pdb\n",
    "from sklearn.cluster import KMeans\n",
    "from sklearn.metrics import silhouette_score\n",
    "\n",
    "# from google.colab import drive\n",
    "# drive.mount('/content/drive')"
   ]
  },
  {
   "cell_type": "code",
   "execution_count": 3,
   "metadata": {
    "colab": {
     "base_uri": "https://localhost:8080/",
     "height": 34
    },
    "colab_type": "code",
    "id": "kSKax7aBS8eX",
    "outputId": "141b0976-beb8-40e1-bbcb-f2962585f47b"
   },
   "outputs": [
    {
     "data": {
      "text/plain": [
       "device(type='cuda')"
      ]
     },
     "execution_count": 3,
     "metadata": {},
     "output_type": "execute_result"
    }
   ],
   "source": [
    "device = torch.device(\"cuda\" if torch.cuda.is_available() else \"cpu\")\n",
    "device"
   ]
  },
  {
   "cell_type": "code",
   "execution_count": 4,
   "metadata": {
    "colab": {},
    "colab_type": "code",
    "id": "beGr3RXYS8ec"
   },
   "outputs": [],
   "source": [
    "class DatasetClass(Dataset):\n",
    "    \n",
    "    def __init__(self, folder, image_list, captions):\n",
    "        \n",
    "        self.folder = folder\n",
    "        self.captions = captions\n",
    "        self.size = 5*len(image_list)\n",
    "        self.image_list = []\n",
    "        for image in image_list:\n",
    "            all_images = [image + '#' + str(i) for i in range(5)]\n",
    "            self.image_list.extend(all_images)\n",
    "        \n",
    "    def __getitem__(self, idx):     \n",
    "        \n",
    "        image_name = self.image_list[idx]\n",
    "        caption = self.captions.loc[image_name, 'Caption']\n",
    "        img = Image.open(self.folder + image_name[:-2]).resize((227, 227))\n",
    "        trans = transforms.ToTensor()\n",
    "        return trans(img), caption\n",
    "      \n",
    "    def __len__(self):\n",
    "        \n",
    "        return self.size"
   ]
  },
  {
   "cell_type": "code",
   "execution_count": 5,
   "metadata": {
    "colab": {},
    "colab_type": "code",
    "id": "BZFjhoHoS8ef"
   },
   "outputs": [],
   "source": [
    "def train_test_loader(directory, image_list, captions, train_fraction=0.8, num_workers=0, batch_size=32):\n",
    "\n",
    "    dataset = DatasetClass(directory, image_list, captions)\n",
    "    \n",
    "    N = dataset.size\n",
    "    train_size = int(N*train_fraction)\n",
    "    test_size = N - train_size\n",
    "\n",
    "    train_data, test_data = torch.utils.data.random_split(dataset, [train_size, test_size])\n",
    "\n",
    "    trainloader = DataLoader(train_data, batch_size=batch_size, shuffle=True, num_workers=num_workers)\n",
    "    testloader = DataLoader(test_data, batch_size=batch_size, shuffle=True, num_workers=num_workers)\n",
    "    \n",
    "    return trainloader, testloader, train_size, test_size"
   ]
  },
  {
   "cell_type": "code",
   "execution_count": 6,
   "metadata": {
    "colab": {},
    "colab_type": "code",
    "id": "J1SV7dwrS8ei"
   },
   "outputs": [],
   "source": [
    "# with open('/content/drive/My Drive/captions.txt') as f:\n",
    "#     captions = pd.read_csv(StringIO(f.read()), sep='\\t', header=None, names=['Image', 'Caption']).set_index('Image', drop=True)\n",
    "    \n",
    "# with open('/content/drive/My Drive/image_names.txt') as f:\n",
    "#     names = list(map(lambda x: x.rstrip(), f.readlines()))\n",
    "\n",
    "with open('D:/_SEM8/DL/Assignment 4/captions.txt') as f:\n",
    "    captions = pd.read_csv(StringIO(f.read()), sep='\\t', header=None, names=['Image', 'Caption']).set_index('Image', drop=True)\n",
    "    \n",
    "with open('D:/_SEM8/DL/Assignment 4/image_names.txt') as f:\n",
    "    names = list(map(lambda x: x.rstrip(), f.readlines()))"
   ]
  },
  {
   "cell_type": "code",
   "execution_count": 7,
   "metadata": {
    "colab": {},
    "colab_type": "code",
    "id": "Jf3Ual9sS8el"
   },
   "outputs": [],
   "source": [
    "# trainloader, testloader, train_size, test_size = train_test_loader(directory='/content/drive/My Drive/Assignment4_Data/Images/', image_list=names, captions=captions)\n",
    "\n",
    "trainloader, testloader, train_size, test_size = train_test_loader(directory='D:/_SEM8/DL/Assignment 4/Assignment4_Images/Images/', image_list=names, captions=captions)"
   ]
  },
  {
   "cell_type": "markdown",
   "metadata": {
    "colab_type": "text",
    "id": "IbRgcoATS8eo"
   },
   "source": [
    "#### GloVe Representation\n",
    "\n",
    "Available GloVe Representations: \n",
    "\n",
    "1. glove.42B.300d \n",
    "2. glove.840B.300d \n",
    "3. glove.twitter.27B.25d \n",
    "4. glove.twitter.27B.50d \n",
    "5. glove.twitter.27B.100d \n",
    "6. glove.twitter.27B.200d \n",
    "7. glove.6B.50d \n",
    "8. glove.6B.100d \n",
    "9. glove.6B.200d \n",
    "10. glove.6B.300d"
   ]
  },
  {
   "cell_type": "code",
   "execution_count": 8,
   "metadata": {
    "colab": {},
    "colab_type": "code",
    "id": "wcB9kNIWS8ep"
   },
   "outputs": [],
   "source": [
    "embedding_glove = GloVe(name='6B', dim=100)"
   ]
  },
  {
   "cell_type": "code",
   "execution_count": 9,
   "metadata": {
    "colab": {},
    "colab_type": "code",
    "id": "HehTL29QS8et"
   },
   "outputs": [],
   "source": [
    "text_field = Field(tokenize='basic_english', lower=True, eos_token='eos', init_token='sos')\n",
    "preprocessed_text = captions['Caption'].apply(lambda x: text_field.preprocess(x))"
   ]
  },
  {
   "cell_type": "code",
   "execution_count": 10,
   "metadata": {
    "colab": {},
    "colab_type": "code",
    "id": "1fMAh6C0S8ew"
   },
   "outputs": [],
   "source": [
    "text_field.build_vocab(preprocessed_text, vectors=embedding_glove)\n",
    "embedding_trained = text_field.vocab.vectors[2:, :]\n",
    "# embedding_trained = nn.Embedding.from_pretrained(text_field.vocab.vectors[2:, :])"
   ]
  },
  {
   "cell_type": "code",
   "execution_count": 11,
   "metadata": {
    "colab": {},
    "colab_type": "code",
    "id": "W4W6SHpmS8ey"
   },
   "outputs": [],
   "source": [
    "vocab_tokens = np.array(text_field.vocab.itos)[2:]"
   ]
  },
  {
   "cell_type": "code",
   "execution_count": 12,
   "metadata": {
    "colab": {},
    "colab_type": "code",
    "id": "esNOLYw0S8e1"
   },
   "outputs": [],
   "source": [
    "class NetVLAD(nn.Module):\n",
    "    \n",
    "    def __init__(self, k):\n",
    "        super(NetVLAD, self).__init__()\n",
    "        \n",
    "        # CNN\n",
    "        self.c1 = nn.Conv2d(3, 96, 11, stride=4)\n",
    "        self.mp1 = nn.MaxPool2d(3, stride=2)\n",
    "        self.c2 = nn.Conv2d(96, 256, 5)\n",
    "        self.mp2 = nn.MaxPool2d(3, stride=2)\n",
    "        self.c3 = nn.Conv2d(256, 384, 3)\n",
    "        self.c4 = nn.Conv2d(384, 384, 3)\n",
    "        self.c5 = nn.Conv2d(384, 256, 3, stride=3)\n",
    "\n",
    "        # NetVLAD\n",
    "        self.K = k\n",
    "        self.nv_conv = nn.Conv2d(256, k, 1)\n",
    "        self.nv_soft_ass = nn.Softmax2d()\n",
    "\n",
    "        # NetVLAD Parameter\n",
    "        self.c = nn.Parameter(torch.Tensor(self.K, 256))\n",
    "        \n",
    "        # Flatten to get h\n",
    "        self.flat = nn.Flatten(1, -1)\n",
    "\n",
    "    def forward(self, x):\n",
    "        \n",
    "        # CNN\n",
    "        x = self.mp1(F.relu(self.c1(x)))\n",
    "        x = self.mp2(F.relu(self.c2(x)))\n",
    "        x = F.relu(self.c5(F.relu(self.c4(F.relu(self.c3(x))))))\n",
    "\n",
    "        self.z_pre = x.flatten(2, 3)\n",
    "\n",
    "        # NetVLAD Step 1\n",
    "        a = self.nv_soft_ass(self.nv_conv(x))\n",
    "\n",
    "        # NetVLAD Step 2\n",
    "        for k in range(self.K):\n",
    "            a_k = a[:, k, :, :]\n",
    "            c_k = self.c[k, :]\n",
    "            temp = (x - c_k.reshape(1, -1, 1, 1))*a_k.unsqueeze(1)\n",
    "            z_k = torch.sum(temp, axis=(2, 3))\n",
    "            if k==0:\n",
    "                Z = z_k.unsqueeze(1)\n",
    "            else:\n",
    "                Z = torch.cat((Z, z_k.unsqueeze(1)), 1)\n",
    "        \n",
    "        # Flatten\n",
    "        Z = self.flat(Z)\n",
    "        \n",
    "#         print(Z.shape)\n",
    "\n",
    "        return Z"
   ]
  },
  {
   "cell_type": "code",
   "execution_count": 13,
   "metadata": {
    "colab": {},
    "colab_type": "code",
    "id": "8euzqlbqesoo"
   },
   "outputs": [],
   "source": [
    "cnn_model = NetVLAD(1).to(device)"
   ]
  },
  {
   "cell_type": "code",
   "execution_count": 14,
   "metadata": {
    "colab": {},
    "colab_type": "code",
    "id": "0Hu4cFa3dyWx"
   },
   "outputs": [],
   "source": [
    "for data in trainloader:\n",
    "    X = data[0].to(device)\n",
    "\n",
    "    with torch.no_grad():\n",
    "        _ = cnn_model(X)\n",
    "        Z_pre = cnn_model.z_pre\n",
    "    break"
   ]
  },
  {
   "cell_type": "code",
   "execution_count": 15,
   "metadata": {
    "colab": {
     "base_uri": "https://localhost:8080/",
     "height": 573
    },
    "colab_type": "code",
    "id": "XtAi3kiJe9P4",
    "outputId": "f3de097e-f3d2-45fb-9bbc-a0d93314e719"
   },
   "outputs": [
    {
     "data": {
      "image/png": "[encoded data removed]",
      "text/plain": [
       "<Figure size 432x288 with 1 Axes>"
      ]
     },
     "metadata": {
      "needs_background": "light"
     },
     "output_type": "display_data"
    },
    {
     "data": {
      "image/png": "[encoded data removed]",
      "text/plain": [
       "<Figure size 432x288 with 1 Axes>"
      ]
     },
     "metadata": {
      "needs_background": "light"
     },
     "output_type": "display_data"
    }
   ],
   "source": [
    "sh_full = np.zeros(9)\n",
    "inertia_full = np.zeros(10)\n",
    "\n",
    "for i in range(Z_pre.shape[0]):\n",
    "    inertia = []\n",
    "    sh_mean = []\n",
    "    for n_clusters in range(1, 11):\n",
    "        X = Z_pre[i, :, :].cpu().numpy()\n",
    "        model = KMeans(n_clusters).fit(X)\n",
    "        inertia.append(model.inertia_)\n",
    "\n",
    "    if n_clusters != 1:\n",
    "        cluster_labels = KMeans(n_clusters).fit_predict(X)\n",
    "        sh_mean.append(silhouette_score(X, cluster_labels))\n",
    "\n",
    "    sh_full += np.array(sh_mean)\n",
    "    inertia_full += np.array(inertia)\n",
    "\n",
    "plt.plot(range(2, 11), sh_full)\n",
    "plt.title('Average Silhouette Coefficient (Sum over a batch)')\n",
    "plt.xlabel('Number of clusters')\n",
    "plt.ylabel('Mean Silhouette Coefficient')\n",
    "plt.show()\n",
    "plt.plot(range(1, 11), inertia_full)\n",
    "plt.title('Elbow Plot (Sum over a batch)')\n",
    "plt.xlabel('Number of clusters')\n",
    "plt.ylabel('Intertia')\n",
    "plt.show()"
   ]
  },
  {
   "cell_type": "code",
   "execution_count": 16,
   "metadata": {
    "colab": {},
    "colab_type": "code",
    "id": "pCFgFv3JS8e5"
   },
   "outputs": [],
   "source": [
    "class RNN(nn.Module):\n",
    "\n",
    "    def __init__(self, embed_size, hidden_size, output_size, embedding_pre_trained):\n",
    "        \n",
    "        super(RNN, self).__init__()\n",
    "        self.hidden_size = hidden_size\n",
    "        \n",
    "        # Pre-trained Word Embedding of all the words is used\n",
    "        self.embedding = nn.Embedding.from_pretrained(embedding_pre_trained)\n",
    "        \n",
    "        # Input to the RNN is word embeddings of a word\n",
    "        self.rnn = nn.RNN(input_size=embed_size, hidden_size=hidden_size) \n",
    "        self.out = nn.Linear(hidden_size, output_size)\n",
    "        self.softmax = nn.LogSoftmax(dim=1)  \n",
    "        \n",
    "    def forward(self, input_vec, hidden_vec):\n",
    "        '''\n",
    "        Parameters:\n",
    "        ------------\n",
    "        input_vec  - tensor of index of word/token. Example: torch.LongTensor([[0]]) for sos_token\n",
    "        hidden_vec - train_image or output from previous RNN cell\n",
    "        '''\n",
    "#         try:\n",
    "\n",
    "        embedded_input_vec = self.embedding(input_vec)\n",
    "        output_vec, hidden_vec = self.rnn(embedded_input_vec, hidden_vec)\n",
    "        output_vec = self.softmax(self.out(output_vec[0]))\n",
    "#         except:\n",
    "#             pdb.set_trace()\n",
    "\n",
    "        return output_vec, hidden_vec      \n"
   ]
  },
  {
   "cell_type": "code",
   "execution_count": 17,
   "metadata": {
    "colab": {},
    "colab_type": "code",
    "id": "WylTwrZ7S8e7"
   },
   "outputs": [],
   "source": [
    "# class LSTM(nn.Module):\n",
    "\n",
    "#     def __init__(self, embed_size, hidden_size, output_size, embedding_pre_trained):\n",
    "        \n",
    "#         super(LSTM, self).__init__()\n",
    "#         self.hidden_size = hidden_size\n",
    "        \n",
    "#         # Pre-trained Word Embedding of all the words is used\n",
    "#         self.embedding = nn.Embedding.from_pretrained(embedding_pre_trained)\n",
    "        \n",
    "#         # Input to the RNN is word embeddings of a word\n",
    "#         self.lstm = nn.LSTM(input_size=embed_size, hidden_size=hidden_size) \n",
    "#         self.out = nn.Linear(hidden_size, output_size)\n",
    "#         self.softmax = nn.LogSoftmax(dim=1)  \n",
    "        \n",
    "#     def forward(self, input_vec, hidden_vec):\n",
    "#         '''\n",
    "#         Parameters:\n",
    "#         ------------\n",
    "#         input_vec  - tensor of index of word/token. Example: torch.LongTensor([[0]]) for sos_token\n",
    "#         hidden_vec - train_image or output from previous RNN cell\n",
    "#         '''\n",
    "#         embedded_input_vec = self.embedding(input_vec)\n",
    "#         output_vec, hidden_vec = self.lstm(embedded_input_vec, hidden_vec)\n",
    "#         output_vec = self.softmax(self.out(output_vec[0]))\n",
    "#         return output_vec, hidden_vec      \n",
    "    \n",
    "    "
   ]
  },
  {
   "cell_type": "code",
   "execution_count": 22,
   "metadata": {
    "colab": {},
    "colab_type": "code",
    "id": "ftndegJtS8e-"
   },
   "outputs": [],
   "source": [
    "def train_one_image(train_image, image_caption, encoder_obj, decoder_obj, encoder_optim, decoder_optim, loss_func, vocab_tokens):\n",
    "    '''\n",
    "    Parameters:\n",
    "    -----------\n",
    "    train_image     - Images stored in batches using DataLoader\n",
    "    image_caption   - Caption of the image (in the same word embedding representation used in )\n",
    "\n",
    "    \n",
    "    '''\n",
    "    # Start of sentence and End of Sentence token\n",
    "    eos_token = np.argwhere(vocab_tokens=='eos').item()\n",
    "    sos_token = np.argwhere(vocab_tokens=='sos').item()\n",
    "    \n",
    "    # Length of the image caption\n",
    "    caption_length = len(image_caption)\n",
    "    \n",
    "    # Setting gradients from previous backpropagation to zero\n",
    "    encoder_optim.zero_grad()\n",
    "    decoder_optim.zero_grad()\n",
    "    \n",
    "    # TO BE CHECKED!!!!!!!!!!!!!!\n",
    "    encoder_output = encoder_obj(train_image).view(1, 1, -1) \n",
    "    print(encoder_output)\n",
    "    \n",
    "    decoder_input = torch.tensor([[sos_token]], device=device)  ## This is converted into an embedding withing the decoder class\n",
    "    decoder_hidden = encoder_output\n",
    "    decoder_hidden_size = decoder_hidden.shape[-1]\n",
    "\n",
    "    try:\n",
    "    \n",
    "        loss = 0\n",
    "        for i in range(caption_length):\n",
    "            decoder_output, decoder_hidden = decoder_obj(decoder_input, decoder_hidden) \n",
    "            max_val, max_ind = decoder_output.topk(1)  # Choosing the word with maximum probability \n",
    "            decoder_input = max_ind  #.squeeze().detach()                     \n",
    "            loss += loss_func(decoder_output, torch.tensor([np.argwhere(vocab_tokens == image_caption[i]).item()]).to(device))\n",
    "            if decoder_input.item() == eos_token:\n",
    "                break\n",
    "#             print(loss)\n",
    "        loss.backward()\n",
    "        encoder_optim.step()\n",
    "        decoder_optim.step()\n",
    "    except:\n",
    "        pdb.set_trace()\n",
    "\n",
    "    return loss.item()/caption_length\n",
    "    "
   ]
  },
  {
   "cell_type": "code",
   "execution_count": 19,
   "metadata": {
    "colab": {},
    "colab_type": "code",
    "id": "nJjH_4T6S8fA"
   },
   "outputs": [],
   "source": [
    "def train(lr, trainloader_images, train_images_size, encoder_obj, decoder_obj, preprocessed_text, captions, vocab_tokens):\n",
    "    \n",
    "    loss_func = nn.NLLLoss()\n",
    "\n",
    "    tokenizer = get_tokenizer(\"basic_english\")\n",
    "    \n",
    "    encoder_optim = optim.SGD(encoder_obj.parameters(), lr=lr)\n",
    "    decoder_optim = optim.SGD(decoder_obj.parameters(), lr=lr)\n",
    "    \n",
    "    old_loss = np.inf\n",
    "    epoch = 0\n",
    "    losses = []\n",
    "    while True:\n",
    "        new_loss = 0\n",
    "        epoch += 1\n",
    "        batch = 0 \n",
    "        for data in trainloader_images:\n",
    "            batch += 1\n",
    "            images, captions = data[0].to(device), data[1]\n",
    "            bs = images.shape[0]\n",
    "\n",
    "            for i in range(bs):\n",
    "                train_image = images[i].view(1, images.shape[1], images.shape[2], images.shape[3])\n",
    "                image_caption = tokenizer(captions[i])\n",
    "                image_caption.append('eos')\n",
    "                new_loss += train_one_image(train_image, image_caption, encoder_obj, decoder_obj, encoder_optim, decoder_optim, loss_func, vocab_tokens)\n",
    "            \n",
    "#             print('Batch {0}'.format(batch))\n",
    "            \n",
    "        new_loss = new_loss/train_images_size\n",
    "        \n",
    "        print('Epoch {0}: Loss = {1}, Rel loss = {2}'.format(epoch, new_loss, abs(new_loss-old_loss)/new_loss))\n",
    "        losses.append(new_loss)\n",
    "\n",
    "        if abs(new_loss-old_loss)/new_loss < 1e-5:\n",
    "            print('Converged')\n",
    "            return losses\n",
    "\n",
    "        old_loss = new_loss"
   ]
  },
  {
   "cell_type": "code",
   "execution_count": 20,
   "metadata": {},
   "outputs": [],
   "source": [
    "k = 5\n",
    "encoder_obj = NetVLAD(k).to(device)"
   ]
  },
  {
   "cell_type": "code",
   "execution_count": 24,
   "metadata": {
    "colab": {},
    "colab_type": "code",
    "id": "ZnMma46TS8fC",
    "outputId": "f8a844c5-9a55-4b5c-d4f9-79359407fde4",
    "scrolled": true
   },
   "outputs": [
    {
     "name": "stdout",
     "output_type": "stream",
     "text": [
      "tensor([[[nan, nan, nan,  ..., nan, nan, nan]]], device='cuda:0',\n",
      "       grad_fn=<ViewBackward>)\n",
      "tensor([[[nan, nan, nan,  ..., nan, nan, nan]]], device='cuda:0',\n",
      "       grad_fn=<ViewBackward>)\n",
      "tensor([[[nan, nan, nan,  ..., nan, nan, nan]]], device='cuda:0',\n",
      "       grad_fn=<ViewBackward>)\n",
      "tensor([[[nan, nan, nan,  ..., nan, nan, nan]]], device='cuda:0',\n",
      "       grad_fn=<ViewBackward>)\n",
      "tensor([[[nan, nan, nan,  ..., nan, nan, nan]]], device='cuda:0',\n",
      "       grad_fn=<ViewBackward>)\n",
      "tensor([[[nan, nan, nan,  ..., nan, nan, nan]]], device='cuda:0',\n",
      "       grad_fn=<ViewBackward>)\n",
      "tensor([[[nan, nan, nan,  ..., nan, nan, nan]]], device='cuda:0',\n",
      "       grad_fn=<ViewBackward>)\n",
      "tensor([[[nan, nan, nan,  ..., nan, nan, nan]]], device='cuda:0',\n",
      "       grad_fn=<ViewBackward>)\n",
      "tensor([[[nan, nan, nan,  ..., nan, nan, nan]]], device='cuda:0',\n",
      "       grad_fn=<ViewBackward>)\n",
      "tensor([[[nan, nan, nan,  ..., nan, nan, nan]]], device='cuda:0',\n",
      "       grad_fn=<ViewBackward>)\n",
      "tensor([[[nan, nan, nan,  ..., nan, nan, nan]]], device='cuda:0',\n",
      "       grad_fn=<ViewBackward>)\n",
      "tensor([[[nan, nan, nan,  ..., nan, nan, nan]]], device='cuda:0',\n",
      "       grad_fn=<ViewBackward>)\n",
      "tensor([[[nan, nan, nan,  ..., nan, nan, nan]]], device='cuda:0',\n",
      "       grad_fn=<ViewBackward>)\n",
      "tensor([[[nan, nan, nan,  ..., nan, nan, nan]]], device='cuda:0',\n",
      "       grad_fn=<ViewBackward>)\n",
      "tensor([[[nan, nan, nan,  ..., nan, nan, nan]]], device='cuda:0',\n",
      "       grad_fn=<ViewBackward>)\n",
      "tensor([[[nan, nan, nan,  ..., nan, nan, nan]]], device='cuda:0',\n",
      "       grad_fn=<ViewBackward>)\n",
      "tensor([[[nan, nan, nan,  ..., nan, nan, nan]]], device='cuda:0',\n",
      "       grad_fn=<ViewBackward>)\n",
      "tensor([[[nan, nan, nan,  ..., nan, nan, nan]]], device='cuda:0',\n",
      "       grad_fn=<ViewBackward>)\n",
      "tensor([[[nan, nan, nan,  ..., nan, nan, nan]]], device='cuda:0',\n",
      "       grad_fn=<ViewBackward>)\n",
      "tensor([[[nan, nan, nan,  ..., nan, nan, nan]]], device='cuda:0',\n",
      "       grad_fn=<ViewBackward>)\n",
      "tensor([[[nan, nan, nan,  ..., nan, nan, nan]]], device='cuda:0',\n",
      "       grad_fn=<ViewBackward>)\n",
      "tensor([[[nan, nan, nan,  ..., nan, nan, nan]]], device='cuda:0',\n",
      "       grad_fn=<ViewBackward>)\n",
      "tensor([[[nan, nan, nan,  ..., nan, nan, nan]]], device='cuda:0',\n",
      "       grad_fn=<ViewBackward>)\n",
      "tensor([[[nan, nan, nan,  ..., nan, nan, nan]]], device='cuda:0',\n",
      "       grad_fn=<ViewBackward>)\n",
      "tensor([[[nan, nan, nan,  ..., nan, nan, nan]]], device='cuda:0',\n",
      "       grad_fn=<ViewBackward>)\n",
      "tensor([[[nan, nan, nan,  ..., nan, nan, nan]]], device='cuda:0',\n",
      "       grad_fn=<ViewBackward>)\n",
      "tensor([[[nan, nan, nan,  ..., nan, nan, nan]]], device='cuda:0',\n",
      "       grad_fn=<ViewBackward>)\n",
      "tensor([[[nan, nan, nan,  ..., nan, nan, nan]]], device='cuda:0',\n",
      "       grad_fn=<ViewBackward>)\n",
      "tensor([[[nan, nan, nan,  ..., nan, nan, nan]]], device='cuda:0',\n",
      "       grad_fn=<ViewBackward>)\n",
      "tensor([[[nan, nan, nan,  ..., nan, nan, nan]]], device='cuda:0',\n",
      "       grad_fn=<ViewBackward>)\n",
      "tensor([[[nan, nan, nan,  ..., nan, nan, nan]]], device='cuda:0',\n",
      "       grad_fn=<ViewBackward>)\n",
      "tensor([[[nan, nan, nan,  ..., nan, nan, nan]]], device='cuda:0',\n",
      "       grad_fn=<ViewBackward>)\n",
      "tensor([[[nan, nan, nan,  ..., nan, nan, nan]]], device='cuda:0',\n",
      "       grad_fn=<ViewBackward>)\n",
      "tensor([[[nan, nan, nan,  ..., nan, nan, nan]]], device='cuda:0',\n",
      "       grad_fn=<ViewBackward>)\n",
      "> <ipython-input-22-e87bcb82d03a>(46)train_one_image()\n",
      "-> return loss.item()/caption_length\n",
      "(Pdb) exit\n"
     ]
    },
    {
     "ename": "BdbQuit",
     "evalue": "",
     "output_type": "error",
     "traceback": [
      "\u001b[1;31m---------------------------------------------------------------------------\u001b[0m",
      "\u001b[1;31mBdbQuit\u001b[0m                                   Traceback (most recent call last)",
      "\u001b[1;32m<ipython-input-24-378b96028d03>\u001b[0m in \u001b[0;36m<module>\u001b[1;34m\u001b[0m\n\u001b[0;32m      4\u001b[0m \u001b[0mdecoder_obj\u001b[0m \u001b[1;33m=\u001b[0m \u001b[0mRNN\u001b[0m\u001b[1;33m(\u001b[0m\u001b[0membed_size\u001b[0m\u001b[1;33m,\u001b[0m \u001b[0mdecoder_hidden_size\u001b[0m\u001b[1;33m,\u001b[0m \u001b[0mdecoder_output_size\u001b[0m\u001b[1;33m,\u001b[0m \u001b[0membedding_trained\u001b[0m\u001b[1;33m)\u001b[0m\u001b[1;33m.\u001b[0m\u001b[0mto\u001b[0m\u001b[1;33m(\u001b[0m\u001b[0mdevice\u001b[0m\u001b[1;33m)\u001b[0m\u001b[1;33m\u001b[0m\u001b[1;33m\u001b[0m\u001b[0m\n\u001b[0;32m      5\u001b[0m \u001b[1;33m\u001b[0m\u001b[0m\n\u001b[1;32m----> 6\u001b[1;33m \u001b[0mlosses\u001b[0m \u001b[1;33m=\u001b[0m \u001b[0mtrain\u001b[0m\u001b[1;33m(\u001b[0m\u001b[1;36m0.001\u001b[0m\u001b[1;33m,\u001b[0m \u001b[0mtrainloader\u001b[0m\u001b[1;33m,\u001b[0m \u001b[0mtrain_size\u001b[0m\u001b[1;33m,\u001b[0m \u001b[0mencoder_obj\u001b[0m\u001b[1;33m,\u001b[0m \u001b[0mdecoder_obj\u001b[0m\u001b[1;33m,\u001b[0m \u001b[0mpreprocessed_text\u001b[0m\u001b[1;33m,\u001b[0m \u001b[0mcaptions\u001b[0m\u001b[1;33m,\u001b[0m \u001b[0mvocab_tokens\u001b[0m\u001b[1;33m)\u001b[0m\u001b[1;33m\u001b[0m\u001b[1;33m\u001b[0m\u001b[0m\n\u001b[0m",
      "\u001b[1;32m<ipython-input-19-9020b9c8dbf0>\u001b[0m in \u001b[0;36mtrain\u001b[1;34m(lr, trainloader_images, train_images_size, encoder_obj, decoder_obj, preprocessed_text, captions, vocab_tokens)\u001b[0m\n\u001b[0;32m     24\u001b[0m                 \u001b[0mimage_caption\u001b[0m \u001b[1;33m=\u001b[0m \u001b[0mtokenizer\u001b[0m\u001b[1;33m(\u001b[0m\u001b[0mcaptions\u001b[0m\u001b[1;33m[\u001b[0m\u001b[0mi\u001b[0m\u001b[1;33m]\u001b[0m\u001b[1;33m)\u001b[0m\u001b[1;33m\u001b[0m\u001b[1;33m\u001b[0m\u001b[0m\n\u001b[0;32m     25\u001b[0m                 \u001b[0mimage_caption\u001b[0m\u001b[1;33m.\u001b[0m\u001b[0mappend\u001b[0m\u001b[1;33m(\u001b[0m\u001b[1;34m'eos'\u001b[0m\u001b[1;33m)\u001b[0m\u001b[1;33m\u001b[0m\u001b[1;33m\u001b[0m\u001b[0m\n\u001b[1;32m---> 26\u001b[1;33m                 \u001b[0mnew_loss\u001b[0m \u001b[1;33m+=\u001b[0m \u001b[0mtrain_one_image\u001b[0m\u001b[1;33m(\u001b[0m\u001b[0mtrain_image\u001b[0m\u001b[1;33m,\u001b[0m \u001b[0mimage_caption\u001b[0m\u001b[1;33m,\u001b[0m \u001b[0mencoder_obj\u001b[0m\u001b[1;33m,\u001b[0m \u001b[0mdecoder_obj\u001b[0m\u001b[1;33m,\u001b[0m \u001b[0mencoder_optim\u001b[0m\u001b[1;33m,\u001b[0m \u001b[0mdecoder_optim\u001b[0m\u001b[1;33m,\u001b[0m \u001b[0mloss_func\u001b[0m\u001b[1;33m,\u001b[0m \u001b[0mvocab_tokens\u001b[0m\u001b[1;33m)\u001b[0m\u001b[1;33m\u001b[0m\u001b[1;33m\u001b[0m\u001b[0m\n\u001b[0m\u001b[0;32m     27\u001b[0m \u001b[1;33m\u001b[0m\u001b[0m\n\u001b[0;32m     28\u001b[0m \u001b[1;31m#             print('Batch {0}'.format(batch))\u001b[0m\u001b[1;33m\u001b[0m\u001b[1;33m\u001b[0m\u001b[1;33m\u001b[0m\u001b[0m\n",
      "\u001b[1;32m<ipython-input-22-e87bcb82d03a>\u001b[0m in \u001b[0;36mtrain_one_image\u001b[1;34m(train_image, image_caption, encoder_obj, decoder_obj, encoder_optim, decoder_optim, loss_func, vocab_tokens)\u001b[0m\n\u001b[0;32m     44\u001b[0m         \u001b[0mpdb\u001b[0m\u001b[1;33m.\u001b[0m\u001b[0mset_trace\u001b[0m\u001b[1;33m(\u001b[0m\u001b[1;33m)\u001b[0m\u001b[1;33m\u001b[0m\u001b[1;33m\u001b[0m\u001b[0m\n\u001b[0;32m     45\u001b[0m \u001b[1;33m\u001b[0m\u001b[0m\n\u001b[1;32m---> 46\u001b[1;33m     \u001b[1;32mreturn\u001b[0m \u001b[0mloss\u001b[0m\u001b[1;33m.\u001b[0m\u001b[0mitem\u001b[0m\u001b[1;33m(\u001b[0m\u001b[1;33m)\u001b[0m\u001b[1;33m/\u001b[0m\u001b[0mcaption_length\u001b[0m\u001b[1;33m\u001b[0m\u001b[1;33m\u001b[0m\u001b[0m\n\u001b[0m\u001b[0;32m     47\u001b[0m \u001b[1;33m\u001b[0m\u001b[0m\n",
      "\u001b[1;32m<ipython-input-22-e87bcb82d03a>\u001b[0m in \u001b[0;36mtrain_one_image\u001b[1;34m(train_image, image_caption, encoder_obj, decoder_obj, encoder_optim, decoder_optim, loss_func, vocab_tokens)\u001b[0m\n\u001b[0;32m     44\u001b[0m         \u001b[0mpdb\u001b[0m\u001b[1;33m.\u001b[0m\u001b[0mset_trace\u001b[0m\u001b[1;33m(\u001b[0m\u001b[1;33m)\u001b[0m\u001b[1;33m\u001b[0m\u001b[1;33m\u001b[0m\u001b[0m\n\u001b[0;32m     45\u001b[0m \u001b[1;33m\u001b[0m\u001b[0m\n\u001b[1;32m---> 46\u001b[1;33m     \u001b[1;32mreturn\u001b[0m \u001b[0mloss\u001b[0m\u001b[1;33m.\u001b[0m\u001b[0mitem\u001b[0m\u001b[1;33m(\u001b[0m\u001b[1;33m)\u001b[0m\u001b[1;33m/\u001b[0m\u001b[0mcaption_length\u001b[0m\u001b[1;33m\u001b[0m\u001b[1;33m\u001b[0m\u001b[0m\n\u001b[0m\u001b[0;32m     47\u001b[0m \u001b[1;33m\u001b[0m\u001b[0m\n",
      "\u001b[1;32m~\\Anaconda3\\lib\\bdb.py\u001b[0m in \u001b[0;36mtrace_dispatch\u001b[1;34m(self, frame, event, arg)\u001b[0m\n\u001b[0;32m     86\u001b[0m             \u001b[1;32mreturn\u001b[0m \u001b[1;31m# None\u001b[0m\u001b[1;33m\u001b[0m\u001b[1;33m\u001b[0m\u001b[0m\n\u001b[0;32m     87\u001b[0m         \u001b[1;32mif\u001b[0m \u001b[0mevent\u001b[0m \u001b[1;33m==\u001b[0m \u001b[1;34m'line'\u001b[0m\u001b[1;33m:\u001b[0m\u001b[1;33m\u001b[0m\u001b[1;33m\u001b[0m\u001b[0m\n\u001b[1;32m---> 88\u001b[1;33m             \u001b[1;32mreturn\u001b[0m \u001b[0mself\u001b[0m\u001b[1;33m.\u001b[0m\u001b[0mdispatch_line\u001b[0m\u001b[1;33m(\u001b[0m\u001b[0mframe\u001b[0m\u001b[1;33m)\u001b[0m\u001b[1;33m\u001b[0m\u001b[1;33m\u001b[0m\u001b[0m\n\u001b[0m\u001b[0;32m     89\u001b[0m         \u001b[1;32mif\u001b[0m \u001b[0mevent\u001b[0m \u001b[1;33m==\u001b[0m \u001b[1;34m'call'\u001b[0m\u001b[1;33m:\u001b[0m\u001b[1;33m\u001b[0m\u001b[1;33m\u001b[0m\u001b[0m\n\u001b[0;32m     90\u001b[0m             \u001b[1;32mreturn\u001b[0m \u001b[0mself\u001b[0m\u001b[1;33m.\u001b[0m\u001b[0mdispatch_call\u001b[0m\u001b[1;33m(\u001b[0m\u001b[0mframe\u001b[0m\u001b[1;33m,\u001b[0m \u001b[0marg\u001b[0m\u001b[1;33m)\u001b[0m\u001b[1;33m\u001b[0m\u001b[1;33m\u001b[0m\u001b[0m\n",
      "\u001b[1;32m~\\Anaconda3\\lib\\bdb.py\u001b[0m in \u001b[0;36mdispatch_line\u001b[1;34m(self, frame)\u001b[0m\n\u001b[0;32m    111\u001b[0m         \u001b[1;32mif\u001b[0m \u001b[0mself\u001b[0m\u001b[1;33m.\u001b[0m\u001b[0mstop_here\u001b[0m\u001b[1;33m(\u001b[0m\u001b[0mframe\u001b[0m\u001b[1;33m)\u001b[0m \u001b[1;32mor\u001b[0m \u001b[0mself\u001b[0m\u001b[1;33m.\u001b[0m\u001b[0mbreak_here\u001b[0m\u001b[1;33m(\u001b[0m\u001b[0mframe\u001b[0m\u001b[1;33m)\u001b[0m\u001b[1;33m:\u001b[0m\u001b[1;33m\u001b[0m\u001b[1;33m\u001b[0m\u001b[0m\n\u001b[0;32m    112\u001b[0m             \u001b[0mself\u001b[0m\u001b[1;33m.\u001b[0m\u001b[0muser_line\u001b[0m\u001b[1;33m(\u001b[0m\u001b[0mframe\u001b[0m\u001b[1;33m)\u001b[0m\u001b[1;33m\u001b[0m\u001b[1;33m\u001b[0m\u001b[0m\n\u001b[1;32m--> 113\u001b[1;33m             \u001b[1;32mif\u001b[0m \u001b[0mself\u001b[0m\u001b[1;33m.\u001b[0m\u001b[0mquitting\u001b[0m\u001b[1;33m:\u001b[0m \u001b[1;32mraise\u001b[0m \u001b[0mBdbQuit\u001b[0m\u001b[1;33m\u001b[0m\u001b[1;33m\u001b[0m\u001b[0m\n\u001b[0m\u001b[0;32m    114\u001b[0m         \u001b[1;32mreturn\u001b[0m \u001b[0mself\u001b[0m\u001b[1;33m.\u001b[0m\u001b[0mtrace_dispatch\u001b[0m\u001b[1;33m\u001b[0m\u001b[1;33m\u001b[0m\u001b[0m\n\u001b[0;32m    115\u001b[0m \u001b[1;33m\u001b[0m\u001b[0m\n",
      "\u001b[1;31mBdbQuit\u001b[0m: "
     ]
    }
   ],
   "source": [
    "embed_size = embedding_trained.shape[1]\n",
    "decoder_output_size = embedding_trained.shape[0]\n",
    "decoder_hidden_size = 1280 ###(fix laterrrrrrrrrrrr)\n",
    "decoder_obj = RNN(embed_size, decoder_hidden_size, decoder_output_size, embedding_trained).to(device)\n",
    "\n",
    "losses = train(0.001, trainloader, train_size, encoder_obj, decoder_obj, preprocessed_text, captions, vocab_tokens)"
   ]
  },
  {
   "cell_type": "code",
   "execution_count": null,
   "metadata": {
    "colab": {},
    "colab_type": "code",
    "id": "7G2KN29uS8fF"
   },
   "outputs": [],
   "source": [
    "def evaluate(encoder_obj, decoder_obj, image, image_caption, vocab_tokens):\n",
    "    with torch.no_grad():\n",
    "\n",
    "        # Start of sentence and End of Sentence token\n",
    "        sos_token = np.argwhere(vocab_tokens=='sos').item()\n",
    "        eos_token = np.argwhere(vocab_tokens=='eos').item()\n",
    "\n",
    "        # Length of the image caption\n",
    "        caption_length = image_caption.size(0)\n",
    "\n",
    "\n",
    "        # TO BE CHECKED!!!!!!!!!!!!!!\n",
    "        encoder_output = encoder_obj(image).view(1, 1, -1)  \n",
    "        decoder_hidden_size = encoder_output.shape[-1]\n",
    "        \n",
    "        decoder_input = torch.tensor([[sos_token]], device=device)\n",
    "        decoder_hidden = encoder_output\n",
    "\n",
    "        output_caption = []\n",
    "        for i in range(caption_length):\n",
    "            decoder_output, decoder_hidden = decoder_obj(decoder_input, decoder_hidden) \n",
    "            max_val, max_ind = decoder_output.topk(1)  # Choosing the word with maximum probability \n",
    "            decoder_input = max_ind \n",
    "            loss += loss_func(decoder_output, image_caption[i])\n",
    "            if decoder_input.item() == eos_token:\n",
    "                output_caption.append('eos')\n",
    "                break\n",
    "            else:\n",
    "                output_caption.append(vocab_tokens[decoder_input.item()])\n",
    "        \n",
    "        print('Image caption: ', image_caption)\n",
    "        print('Predicted caption: ', output_caption)\n",
    "\n",
    "#         return bleu_score(image_caption, output_caption)"
   ]
  },
  {
   "cell_type": "markdown",
   "metadata": {
    "colab_type": "text",
    "id": "nCi7OWIyS8fI"
   },
   "source": [
    "### Question 1"
   ]
  },
  {
   "cell_type": "markdown",
   "metadata": {
    "colab_type": "text",
    "id": "YnrTPAEaS8fJ"
   },
   "source": [
    "### Question 2"
   ]
  },
  {
   "cell_type": "code",
   "execution_count": null,
   "metadata": {
    "colab": {},
    "colab_type": "code",
    "id": "oIJeqnwuS8fJ"
   },
   "outputs": [],
   "source": [
    "k = 1\n",
    "decoder_hidden_size =50\n",
    "\n",
    "encoder_obj = NetVLAD(k).to(device)\n",
    "\n",
    "embed_size = embedding_trained.weight.shape[1]\n",
    "decoder_output_size = embedding_trained.weight.shape[0]\n",
    "decoder_obj = LSTM(embed_size, decoder_hidden_size, decoder_output_size, embedding_trained).to(device)\n",
    "\n",
    "train(lr=0.01, trainloader, encoder_obj, decoder_obj)"
   ]
  }
 ],
 "metadata": {
  "accelerator": "GPU",
  "colab": {
   "collapsed_sections": [],
   "name": "Q1_Q2.ipynb",
   "provenance": []
  },
  "kernelspec": {
   "display_name": "Python 3",
   "language": "python",
   "name": "python3"
  },
  "language_info": {
   "codemirror_mode": {
    "name": "ipython",
    "version": 3
   },
   "file_extension": ".py",
   "mimetype": "text/x-python",
   "name": "python",
   "nbconvert_exporter": "python",
   "pygments_lexer": "ipython3",
   "version": "3.7.4"
  }
 },
 "nbformat": 4,
 "nbformat_minor": 1
}

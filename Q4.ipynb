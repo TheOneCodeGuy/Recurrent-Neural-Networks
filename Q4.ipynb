{
 "cells": [
  {
   "cell_type": "code",
   "execution_count": 11,
   "metadata": {},
   "outputs": [],
   "source": [
    "import os\n",
    "os.environ['CUDA_LAUNCH_BLOCKING'] = '1'"
   ]
  },
  {
   "cell_type": "code",
   "execution_count": 12,
   "metadata": {},
   "outputs": [],
   "source": [
    "import torch\n",
    "import torch.nn as nn\n",
    "import torch.nn.functional as F\n",
    "import numpy as np\n",
    "import torch.optim as optim\n",
    "from torchtext.vocab import GloVe\n",
    "from torchtext.data import Field, BucketIterator\n",
    "from torchtext.data.metrics import bleu_score\n",
    "import spacy"
   ]
  },
  {
   "cell_type": "code",
   "execution_count": 13,
   "metadata": {},
   "outputs": [
    {
     "data": {
      "text/plain": [
       "device(type='cuda')"
      ]
     },
     "execution_count": 13,
     "metadata": {},
     "output_type": "execute_result"
    }
   ],
   "source": [
    "device = torch.device(\"cuda\" if torch.cuda.is_available() else \"cpu\")\n",
    "device"
   ]
  },
  {
   "cell_type": "code",
   "execution_count": 14,
   "metadata": {},
   "outputs": [],
   "source": [
    "#Reading files\n",
    "\n",
    "with open('trainen.txt', encoding='utf8') as f:\n",
    "    eng_train = list(map(lambda x: x.rstrip(), f.readlines()))\n",
    "    \n",
    "with open('trainta.txt', encoding='utf8') as f:\n",
    "    tamil_train = list(map(lambda x: x.rstrip(), f.readlines()))\n",
    "    \n",
    "with open('deven.txt', encoding='utf8') as f:\n",
    "    eng_test = list(map(lambda x: x.rstrip(), f.readlines()))\n",
    "    \n",
    "with open('devta.txt', encoding='utf8') as f:\n",
    "    tamil_test = list(map(lambda x: x.rstrip(), f.readlines()))\n",
    "    \n",
    "embedding_glove = GloVe(name='6B', dim=100)\n",
    "\n",
    "spacy_en = spacy.load('en_core_web_sm')\n",
    "\n",
    "def tokenize_en(text):\n",
    "    return [tok.text for tok in spacy_en.tokenizer(text)]\n",
    "\n",
    "ENG = Field(tokenize = tokenize_en, init_token='sos', eos_token = 'eos', lower=True)\n",
    "processed_eng_train = list(map(lambda x: ENG.preprocess(x), eng_train))\n",
    "processed_eng_test = list(map(lambda x: ENG.preprocess(x), eng_test))\n",
    "\n",
    "ENG.build_vocab(processed_eng_train, vectors=embedding_glove)"
   ]
  },
  {
   "cell_type": "code",
   "execution_count": 15,
   "metadata": {},
   "outputs": [],
   "source": [
    "def preprocess(processed_eng):\n",
    "    \n",
    "    #function to return the numericalized version of the tokenized sentences\n",
    "    X = []\n",
    "    for tokenized_sentence in processed_eng:\n",
    "        int_sequence = [2]  #first element is the SOS token \n",
    "        for token in tokenized_sentence:\n",
    "            int_sequence.append(ENG.vocab.stoi[token])\n",
    "        int_sequence.append(3) #last element is the EOS token\n",
    "        X.append(int_sequence)\n",
    "    \n",
    "    return X\n",
    "\n",
    "# X_train and X_test are lists of lists with the integer sequences for a given sentence\n",
    "X_train = preprocess(processed_eng_train)\n",
    "X_test = preprocess(processed_eng_test)"
   ]
  },
  {
   "cell_type": "code",
   "execution_count": 16,
   "metadata": {},
   "outputs": [
    {
     "name": "stderr",
     "output_type": "stream",
     "text": [
      "Using TensorFlow backend.\n"
     ]
    }
   ],
   "source": [
    "from keras.preprocessing.text import Tokenizer\n",
    "from keras.preprocessing.sequence import pad_sequences\n",
    "\n",
    "# Same thing for Tamil sentences\n",
    "TAM = Tokenizer()\n",
    "TAM.fit_on_texts(tamil_train)\n",
    "Y_train = TAM.texts_to_sequences(tamil_train)\n",
    "Y_test = TAM.texts_to_sequences(tamil_test)\n",
    "\n",
    "#adding EOS token\n",
    "_ = [y.append(0) for y in Y_train]\n",
    "_ = [y.append(0) for y in Y_test]"
   ]
  },
  {
   "cell_type": "code",
   "execution_count": 17,
   "metadata": {},
   "outputs": [
    {
     "name": "stdout",
     "output_type": "stream",
     "text": [
      "9736\n",
      "18669\n"
     ]
    }
   ],
   "source": [
    "source_vocab_size = len(ENG.vocab)\n",
    "target_vocab_size = len(TAM.word_index)+1\n",
    "print(source_vocab_size)\n",
    "print(target_vocab_size)"
   ]
  },
  {
   "cell_type": "code",
   "execution_count": 18,
   "metadata": {},
   "outputs": [],
   "source": [
    "class Encoder(nn.Module):\n",
    "    \n",
    "    def __init__(self, embed_size, hidden_size, ENG):\n",
    "        \n",
    "        super(Encoder, self).__init__()\n",
    "        self.embed_size = embed_size\n",
    "        self.hidden_size = hidden_size\n",
    "        self.embed = nn.Embedding.from_pretrained(ENG.vocab.vectors)\n",
    "        self.lstm = nn.LSTM(embed_size, hidden_size)\n",
    "        \n",
    "    def forward(self, x, enc_hidden):\n",
    "        \n",
    "        enc_output, enc_hidden = self.lstm(self.embed(x).view(1,1,-1), enc_hidden)\n",
    "        return enc_output, enc_hidden"
   ]
  },
  {
   "cell_type": "code",
   "execution_count": 64,
   "metadata": {},
   "outputs": [],
   "source": [
    "class AttnDecoder(nn.Module):\n",
    "    \n",
    "    def __init__(self, embed_size, hidden_size, n_classes):\n",
    "        \n",
    "        super(AttnDecoder, self).__init__()\n",
    "        self.embed_size = embed_size\n",
    "        self.hidden_size = hidden_size\n",
    "        self.embed = nn.Embedding(n_classes, embed_size)\n",
    "        self.lstm = nn.LSTM(embed_size + hidden_size, hidden_size)\n",
    "        self.fc = nn.Linear(hidden_size, n_classes)\n",
    "        self.logsoftmax = nn.LogSoftmax(dim=1)\n",
    "\n",
    "    def forward(self, input, hidden, enc_hidden_states):\n",
    "        \n",
    "        # hidden is a tuple with each element of size 1,1,self.hidden_size\n",
    "        # enc_hidden_states is of size Ts, self.hidden_size (Ts is the source length)\n",
    "        embedded = self.embed(input).view(1, 1, -1)   # size is 1,1,self.embed_size\n",
    "        \n",
    "        #attn_scores will be of shape Ts\n",
    "        attn_scores = torch.cuda.FloatTensor([torch.dot(hidden[0].squeeze(), enc_hidden_states[i]) for i in range(enc_hidden_states.shape[0])])\n",
    "\n",
    "        attn_weights = F.softmax(attn_scores, dim=0)\n",
    "        \n",
    "        # context will be of shape 1,1,self.hidden_size\n",
    "        context = torch.bmm(attn_weights.view(1,1,-1), enc_hidden_states.unsqueeze(0))\n",
    "        \n",
    "        # new_input will be of shape 1,self.hidden_size + self.embed_size\n",
    "        new_input = torch.cat((embedded[0], context[0]), 1)\n",
    "        \n",
    "        output, hidden = self.lstm(new_input.unsqueeze(0), hidden)\n",
    "\n",
    "        output = self.logsoftmax(self.fc(output[0]))\n",
    "        \n",
    "        return output, hidden"
   ]
  },
  {
   "cell_type": "code",
   "execution_count": 33,
   "metadata": {},
   "outputs": [],
   "source": [
    "def loss_per_pair(source_sentence, target_sentence, enc_obj, dec_obj, enc_optimiser, dec_optimiser, loss_fn):\n",
    "    \n",
    "    Ts = source_sentence.size(-1)\n",
    "    Tt = target_sentence.size(-1)\n",
    "    enc_hidden = (torch.zeros(1, 1, enc_obj.hidden_size, device=device), torch.zeros(1, 1, enc_obj.hidden_size, device=device))\n",
    "    enc_hidden_states = torch.zeros(Ts, enc_obj.hidden_size, device=device)\n",
    "    \n",
    "    enc_optimiser.zero_grad()\n",
    "    dec_optimiser.zero_grad()\n",
    "    \n",
    "    loss_val = 0\n",
    "    \n",
    "    for i in range(Ts):\n",
    "        enc_output, enc_hidden = enc_obj(source_sentence[i], enc_hidden)\n",
    "        enc_hidden_states[i] = enc_hidden[0][0,0]\n",
    "        \n",
    "    dec_input = torch.tensor([[2]], device=device)  #SOS token\n",
    "    \n",
    "    dec_hidden = (enc_hidden[0], torch.zeros(1, 1, dec_obj.hidden_size, device=device))\n",
    "    \n",
    "    for i in range(Tt):\n",
    "        dec_output, dec_hidden = dec_obj(dec_input, dec_hidden, enc_hidden_states)\n",
    "        _ , index = dec_output.topk(1)\n",
    "        dec_input = index.squeeze().detach()\n",
    "        \n",
    "        target_word = torch.cuda.LongTensor([target_sentence[i].item()])\n",
    "        \n",
    "        loss_val += loss_fn(dec_output, target_word)\n",
    "        \n",
    "        if dec_input.item() == 0:\n",
    "            break\n",
    "\n",
    "    loss_val.backward()\n",
    "\n",
    "    enc_optimiser.step()\n",
    "    dec_optimiser.step()\n",
    "\n",
    "    return loss_val.item()/Tt"
   ]
  },
  {
   "cell_type": "code",
   "execution_count": 21,
   "metadata": {},
   "outputs": [],
   "source": [
    "def train_model(sources, targets, enc_obj, dec_obj):\n",
    "    \n",
    "    loss_fn = nn.NLLLoss()\n",
    "    enc_optimiser = optim.SGD(enc_obj.parameters(), lr=0.001, momentum=0.9)\n",
    "    dec_optimiser = optim.SGD(dec_obj.parameters(), lr=0.001, momentum=0.9)\n",
    "    \n",
    "    max_epochs = 100\n",
    "    old_loss = np.inf\n",
    "    indices = [i for i in range(len(sources))]\n",
    "    \n",
    "    for epoch in range(max_epochs):\n",
    "        \n",
    "        # shuffling the input data manually at the start of every new epoch\n",
    "        np.random.shuffle(indices)\n",
    "        sources = list(np.array(sources)[indices])\n",
    "        targets = list(np.array(targets)[indices])\n",
    "        \n",
    "        running_loss = 0.0\n",
    "        num_sentences = len(sources)\n",
    "        \n",
    "        for i in range(num_sentences):\n",
    "            source_sentence = torch.cuda.LongTensor(sources[i])\n",
    "            target_sentence = torch.cuda.LongTensor(targets[i])\n",
    "\n",
    "            loss = loss_per_pair(source_sentence, target_sentence, enc_obj, dec_obj, enc_optimiser, dec_optimiser, loss_fn)\n",
    "            running_loss += loss\n",
    "\n",
    "            if i%int(num_sentences*0.1)==0:\n",
    "                print(\"Epoch\", epoch+1, \":\", (i/int(num_sentences*0.1))*10,'% done')\n",
    "                print(\"Current loss:\", running_loss)\n",
    "                \n",
    "        if abs(running_loss-old_loss)/running_loss < 1e-3:\n",
    "            print('Converged')\n",
    "            break\n",
    "    \n",
    "        old_loss = running_loss\n",
    "\n",
    "    print(\"Finished Training\")"
   ]
  },
  {
   "cell_type": "code",
   "execution_count": 66,
   "metadata": {},
   "outputs": [
    {
     "name": "stdout",
     "output_type": "stream",
     "text": [
      "Epoch 1 : 0.0 % done\n",
      "Current loss: 9.865872065226236\n",
      "Epoch 1 : 10.0 % done\n",
      "Current loss: 9965.81026923837\n",
      "Epoch 1 : 20.0 % done\n",
      "Current loss: 19520.953208559175\n",
      "Epoch 1 : 30.0 % done\n",
      "Current loss: 30208.617823175995\n",
      "Epoch 1 : 40.0 % done\n",
      "Current loss: 40993.00459000049\n",
      "Epoch 1 : 50.0 % done\n",
      "Current loss: 51931.50701822294\n",
      "Epoch 1 : 60.0 % done\n",
      "Current loss: 62411.930802273746\n",
      "Epoch 1 : 70.0 % done\n",
      "Current loss: 72913.40585981094\n",
      "Epoch 1 : 80.0 % done\n",
      "Current loss: 83606.68587930744\n",
      "Epoch 1 : 90.0 % done\n",
      "Current loss: 94385.72346927875\n",
      "Epoch 1 : 100.0 % done\n",
      "Current loss: 105203.04365062494\n",
      "Epoch 2 : 0.0 % done\n",
      "Current loss: 3.6174509525299072\n",
      "Epoch 2 : 10.0 % done\n",
      "Current loss: 10991.49739243447\n",
      "Epoch 2 : 20.0 % done\n",
      "Current loss: 21920.996610702823\n",
      "Epoch 2 : 30.0 % done\n",
      "Current loss: 32826.077175729566\n",
      "Epoch 2 : 40.0 % done\n",
      "Current loss: 43782.33914894176\n",
      "Epoch 2 : 50.0 % done\n",
      "Current loss: 54790.154884879754\n",
      "Epoch 2 : 60.0 % done\n",
      "Current loss: 65980.39535754849\n",
      "Epoch 2 : 70.0 % done\n",
      "Current loss: 76927.29991664639\n",
      "Epoch 2 : 80.0 % done\n",
      "Current loss: 87739.22224675836\n",
      "Epoch 2 : 90.0 % done\n",
      "Current loss: 98959.08498212957\n",
      "Epoch 2 : 100.0 % done\n",
      "Current loss: 109902.58561182902\n",
      "Epoch 3 : 0.0 % done\n",
      "Current loss: 4.449630260467529\n",
      "Epoch 3 : 10.0 % done\n",
      "Current loss: 10706.725871032953\n",
      "Epoch 3 : 20.0 % done\n",
      "Current loss: 21516.915548176126\n"
     ]
    },
    {
     "ename": "KeyboardInterrupt",
     "evalue": "",
     "output_type": "error",
     "traceback": [
      "\u001b[1;31m---------------------------------------------------------------------------\u001b[0m",
      "\u001b[1;31mKeyboardInterrupt\u001b[0m                         Traceback (most recent call last)",
      "\u001b[1;32m<ipython-input-66-1a528bbe464b>\u001b[0m in \u001b[0;36m<module>\u001b[1;34m\u001b[0m\n\u001b[0;32m      3\u001b[0m \u001b[0mencoder\u001b[0m \u001b[1;33m=\u001b[0m \u001b[0mEncoder\u001b[0m\u001b[1;33m(\u001b[0m\u001b[0membedding_size\u001b[0m\u001b[1;33m,\u001b[0m \u001b[0mhidden_size\u001b[0m\u001b[1;33m,\u001b[0m \u001b[0mENG\u001b[0m\u001b[1;33m)\u001b[0m\u001b[1;33m.\u001b[0m\u001b[0mto\u001b[0m\u001b[1;33m(\u001b[0m\u001b[0mdevice\u001b[0m\u001b[1;33m)\u001b[0m\u001b[1;33m\u001b[0m\u001b[1;33m\u001b[0m\u001b[0m\n\u001b[0;32m      4\u001b[0m \u001b[0mdecoder\u001b[0m \u001b[1;33m=\u001b[0m \u001b[0mAttnDecoder\u001b[0m\u001b[1;33m(\u001b[0m\u001b[0membedding_size\u001b[0m\u001b[1;33m,\u001b[0m \u001b[0mhidden_size\u001b[0m\u001b[1;33m,\u001b[0m \u001b[0mtarget_vocab_size\u001b[0m\u001b[1;33m)\u001b[0m\u001b[1;33m.\u001b[0m\u001b[0mto\u001b[0m\u001b[1;33m(\u001b[0m\u001b[0mdevice\u001b[0m\u001b[1;33m)\u001b[0m\u001b[1;33m\u001b[0m\u001b[1;33m\u001b[0m\u001b[0m\n\u001b[1;32m----> 5\u001b[1;33m \u001b[0mtrain_model\u001b[0m\u001b[1;33m(\u001b[0m\u001b[0mX_train\u001b[0m\u001b[1;33m,\u001b[0m \u001b[0mY_train\u001b[0m\u001b[1;33m,\u001b[0m \u001b[0mencoder\u001b[0m\u001b[1;33m,\u001b[0m \u001b[0mdecoder\u001b[0m\u001b[1;33m)\u001b[0m\u001b[1;33m\u001b[0m\u001b[1;33m\u001b[0m\u001b[0m\n\u001b[0m",
      "\u001b[1;32m<ipython-input-21-8a23014628df>\u001b[0m in \u001b[0;36mtrain_model\u001b[1;34m(sources, targets, enc_obj, dec_obj)\u001b[0m\n\u001b[0;32m     23\u001b[0m             \u001b[0mtarget_sentence\u001b[0m \u001b[1;33m=\u001b[0m \u001b[0mtorch\u001b[0m\u001b[1;33m.\u001b[0m\u001b[0mcuda\u001b[0m\u001b[1;33m.\u001b[0m\u001b[0mLongTensor\u001b[0m\u001b[1;33m(\u001b[0m\u001b[0mtargets\u001b[0m\u001b[1;33m[\u001b[0m\u001b[0mi\u001b[0m\u001b[1;33m]\u001b[0m\u001b[1;33m)\u001b[0m\u001b[1;33m\u001b[0m\u001b[1;33m\u001b[0m\u001b[0m\n\u001b[0;32m     24\u001b[0m \u001b[1;33m\u001b[0m\u001b[0m\n\u001b[1;32m---> 25\u001b[1;33m             \u001b[0mloss\u001b[0m \u001b[1;33m=\u001b[0m \u001b[0mloss_per_pair\u001b[0m\u001b[1;33m(\u001b[0m\u001b[0msource_sentence\u001b[0m\u001b[1;33m,\u001b[0m \u001b[0mtarget_sentence\u001b[0m\u001b[1;33m,\u001b[0m \u001b[0menc_obj\u001b[0m\u001b[1;33m,\u001b[0m \u001b[0mdec_obj\u001b[0m\u001b[1;33m,\u001b[0m \u001b[0menc_optimiser\u001b[0m\u001b[1;33m,\u001b[0m \u001b[0mdec_optimiser\u001b[0m\u001b[1;33m,\u001b[0m \u001b[0mloss_fn\u001b[0m\u001b[1;33m)\u001b[0m\u001b[1;33m\u001b[0m\u001b[1;33m\u001b[0m\u001b[0m\n\u001b[0m\u001b[0;32m     26\u001b[0m             \u001b[0mrunning_loss\u001b[0m \u001b[1;33m+=\u001b[0m \u001b[0mloss\u001b[0m\u001b[1;33m\u001b[0m\u001b[1;33m\u001b[0m\u001b[0m\n\u001b[0;32m     27\u001b[0m \u001b[1;33m\u001b[0m\u001b[0m\n",
      "\u001b[1;32m<ipython-input-33-d2bf0dcc70fd>\u001b[0m in \u001b[0;36mloss_per_pair\u001b[1;34m(source_sentence, target_sentence, enc_obj, dec_obj, enc_optimiser, dec_optimiser, loss_fn)\u001b[0m\n\u001b[0;32m     15\u001b[0m         \u001b[0menc_hidden_states\u001b[0m\u001b[1;33m[\u001b[0m\u001b[0mi\u001b[0m\u001b[1;33m]\u001b[0m \u001b[1;33m=\u001b[0m \u001b[0menc_hidden\u001b[0m\u001b[1;33m[\u001b[0m\u001b[1;36m0\u001b[0m\u001b[1;33m]\u001b[0m\u001b[1;33m[\u001b[0m\u001b[1;36m0\u001b[0m\u001b[1;33m,\u001b[0m\u001b[1;36m0\u001b[0m\u001b[1;33m]\u001b[0m\u001b[1;33m\u001b[0m\u001b[1;33m\u001b[0m\u001b[0m\n\u001b[0;32m     16\u001b[0m \u001b[1;33m\u001b[0m\u001b[0m\n\u001b[1;32m---> 17\u001b[1;33m     \u001b[0mdec_input\u001b[0m \u001b[1;33m=\u001b[0m \u001b[0mtorch\u001b[0m\u001b[1;33m.\u001b[0m\u001b[0mtensor\u001b[0m\u001b[1;33m(\u001b[0m\u001b[1;33m[\u001b[0m\u001b[1;33m[\u001b[0m\u001b[1;36m2\u001b[0m\u001b[1;33m]\u001b[0m\u001b[1;33m]\u001b[0m\u001b[1;33m,\u001b[0m \u001b[0mdevice\u001b[0m\u001b[1;33m=\u001b[0m\u001b[0mdevice\u001b[0m\u001b[1;33m)\u001b[0m  \u001b[1;31m#SOS token\u001b[0m\u001b[1;33m\u001b[0m\u001b[1;33m\u001b[0m\u001b[0m\n\u001b[0m\u001b[0;32m     18\u001b[0m \u001b[1;33m\u001b[0m\u001b[0m\n\u001b[0;32m     19\u001b[0m     \u001b[0mdec_hidden\u001b[0m \u001b[1;33m=\u001b[0m \u001b[1;33m(\u001b[0m\u001b[0menc_hidden\u001b[0m\u001b[1;33m[\u001b[0m\u001b[1;36m0\u001b[0m\u001b[1;33m]\u001b[0m\u001b[1;33m,\u001b[0m \u001b[0mtorch\u001b[0m\u001b[1;33m.\u001b[0m\u001b[0mzeros\u001b[0m\u001b[1;33m(\u001b[0m\u001b[1;36m1\u001b[0m\u001b[1;33m,\u001b[0m \u001b[1;36m1\u001b[0m\u001b[1;33m,\u001b[0m \u001b[0mdec_obj\u001b[0m\u001b[1;33m.\u001b[0m\u001b[0mhidden_size\u001b[0m\u001b[1;33m,\u001b[0m \u001b[0mdevice\u001b[0m\u001b[1;33m=\u001b[0m\u001b[0mdevice\u001b[0m\u001b[1;33m)\u001b[0m\u001b[1;33m)\u001b[0m\u001b[1;33m\u001b[0m\u001b[1;33m\u001b[0m\u001b[0m\n",
      "\u001b[1;31mKeyboardInterrupt\u001b[0m: "
     ]
    }
   ],
   "source": [
    "embedding_size = 100\n",
    "hidden_size = 150\n",
    "encoder = Encoder(embedding_size, hidden_size, ENG).to(device)\n",
    "decoder = AttnDecoder(embedding_size, hidden_size, target_vocab_size).to(device)\n",
    "train_model(X_train, Y_train, encoder, decoder)"
   ]
  },
  {
   "cell_type": "code",
   "execution_count": 70,
   "metadata": {},
   "outputs": [],
   "source": [
    "def eval_bleu(enc_obj, dec_obj, source_sentence, target, target_vocab_dict):\n",
    "    \n",
    "    # function to return the BLEU score for a single sentence \n",
    "    \n",
    "    with torch.no_grad():\n",
    "        \n",
    "        Ts = source_sentence.size(-1)\n",
    "        enc_hidden = (torch.zeros(1, 1, enc_obj.hidden_size, device=device), torch.zeros(1, 1, enc_obj.hidden_size, device=device))\n",
    "        enc_hidden_states = torch.zeros(Ts, enc_obj.hidden_size, device=device)\n",
    "\n",
    "        for i in range(Ts):\n",
    "            enc_output, enc_hidden = enc_obj(source_sentence[i], enc_hidden)\n",
    "            enc_hidden_states[i] = enc_hidden[0][0,0]\n",
    "\n",
    "        dec_input = torch.tensor([[2]], device=device)  # SOS\n",
    "\n",
    "        dec_hidden = (enc_hidden[0], torch.zeros(1, 1, dec_obj.hidden_size, device=device))\n",
    "\n",
    "        predicted = []\n",
    "\n",
    "        for i in range(60):\n",
    "            dec_output, dec_hidden = dec_obj(dec_input, dec_hidden, enc_hidden_states)\n",
    "            _ , index = dec_output.data.topk(1)\n",
    "            if index.item() == 0:\n",
    "                #decoded_words.append('<EOS>')\n",
    "                break\n",
    "            else:\n",
    "                predicted.append(target_vocab_dict[index.item()])\n",
    "\n",
    "            dec_input = index.squeeze().detach()\n",
    "\n",
    "#     print(predicted)\n",
    "#     print(target)\n",
    "    return bleu_score([predicted], [[target]])"
   ]
  },
  {
   "cell_type": "code",
   "execution_count": 71,
   "metadata": {},
   "outputs": [],
   "source": [
    "def evaluate_model(enc_obj, dec_obj, source_test, target_test, target_vocab_dict):\n",
    "    \n",
    "    # returns the average bleu score for the model with the given test data\n",
    "    \n",
    "    total_bleu = 0\n",
    "    for i in range(len(source_test)):\n",
    "        source_sentence = torch.cuda.LongTensor(source_test[i])\n",
    "        target = [target_vocab_dict[x] for x in target_test[i][:-1]]\n",
    "        bleu = eval_bleu(enc_obj, dec_obj, source_sentence, target, target_vocab_dict)\n",
    "        total_bleu += bleu\n",
    "    \n",
    "    return total_bleu/len(source_test)"
   ]
  },
  {
   "cell_type": "code",
   "execution_count": 72,
   "metadata": {},
   "outputs": [
    {
     "data": {
      "text/plain": [
       "0.0"
      ]
     },
     "execution_count": 72,
     "metadata": {},
     "output_type": "execute_result"
    }
   ],
   "source": [
    "evaluate_model(encoder, decoder, X_test, Y_test, TAM.index_word)"
   ]
  },
  {
   "cell_type": "code",
   "execution_count": null,
   "metadata": {},
   "outputs": [],
   "source": []
  }
 ],
 "metadata": {
  "kernelspec": {
   "display_name": "Python 3",
   "language": "python",
   "name": "python3"
  },
  "language_info": {
   "codemirror_mode": {
    "name": "ipython",
    "version": 3
   },
   "file_extension": ".py",
   "mimetype": "text/x-python",
   "name": "python",
   "nbconvert_exporter": "python",
   "pygments_lexer": "ipython3",
   "version": "3.7.4"
  }
 },
 "nbformat": 4,
 "nbformat_minor": 2
}

{
 "cells": [
  {
   "cell_type": "code",
   "execution_count": 84,
   "metadata": {},
   "outputs": [],
   "source": [
    "import pdb\n",
    "import os\n",
    "os.environ['CUDA_LAUNCH_BLOCKING'] = '1'"
   ]
  },
  {
   "cell_type": "code",
   "execution_count": 85,
   "metadata": {},
   "outputs": [],
   "source": [
    "import torch\n",
    "import torch.nn as nn\n",
    "from torch.nn import TransformerEncoder, TransformerEncoderLayer, TransformerDecoder, TransformerDecoderLayer, Transformer\n",
    "import torch.nn.functional as F\n",
    "import numpy as np\n",
    "import torch.optim as optim\n",
    "from torchtext.vocab import GloVe\n",
    "from torchtext.data import Field, BucketIterator\n",
    "from torchtext.data.metrics import bleu_score\n",
    "import spacy\n",
    "import math"
   ]
  },
  {
   "cell_type": "code",
   "execution_count": 86,
   "metadata": {},
   "outputs": [
    {
     "data": {
      "text/plain": [
       "device(type='cuda')"
      ]
     },
     "execution_count": 86,
     "metadata": {},
     "output_type": "execute_result"
    }
   ],
   "source": [
    "device = torch.device(\"cuda\" if torch.cuda.is_available() else \"cpu\")\n",
    "device"
   ]
  },
  {
   "cell_type": "code",
   "execution_count": 87,
   "metadata": {},
   "outputs": [],
   "source": [
    "#Reading files\n",
    "\n",
    "with open('trainen.txt', encoding='utf8') as f:\n",
    "    eng_train = list(map(lambda x: x.rstrip(), f.readlines()))\n",
    "    \n",
    "with open('trainta.txt', encoding='utf8') as f:\n",
    "    tamil_train = list(map(lambda x: x.rstrip(), f.readlines()))\n",
    "    \n",
    "with open('deven.txt', encoding='utf8') as f:\n",
    "    eng_test = list(map(lambda x: x.rstrip(), f.readlines()))\n",
    "    \n",
    "with open('devta.txt', encoding='utf8') as f:\n",
    "    tamil_test = list(map(lambda x: x.rstrip(), f.readlines()))\n",
    "    \n",
    "embedding_glove = GloVe(name='6B', dim=100)\n",
    "\n",
    "spacy_en = spacy.load('en_core_web_sm')\n",
    "\n",
    "def tokenize_en(text):\n",
    "    return [tok.text for tok in spacy_en.tokenizer(text)]\n",
    "\n",
    "stop_words = [',','.','?','!',')','(',':',']','[','$','#','&','%','--']\n",
    "ENG = Field(tokenize = tokenize_en, init_token='sos', eos_token = 'eos', lower=True, stop_words=stop_words)\n",
    "processed_eng_train = list(map(lambda x: ENG.preprocess(x), eng_train))\n",
    "processed_eng_test = list(map(lambda x: ENG.preprocess(x), eng_test))\n",
    "\n",
    "ENG.build_vocab(processed_eng_train, vectors=embedding_glove)"
   ]
  },
  {
   "cell_type": "code",
   "execution_count": 88,
   "metadata": {},
   "outputs": [],
   "source": [
    "def preprocess(processed_eng):\n",
    "    \n",
    "    #function to return the numericalized version of the tokenized sentences\n",
    "    X = []\n",
    "    for tokenized_sentence in processed_eng:\n",
    "        int_sequence = [2]  #first element is the SOS token \n",
    "        for token in tokenized_sentence:\n",
    "            int_sequence.append(ENG.vocab.stoi[token])\n",
    "        int_sequence.append(3) #last element is the EOS token\n",
    "        X.append(int_sequence)\n",
    "    \n",
    "    return X\n",
    "\n",
    "# X_train and X_test are lists of lists with the integer sequences for a given sentence\n",
    "X_train = preprocess(processed_eng_train)\n",
    "X_test = preprocess(processed_eng_test)"
   ]
  },
  {
   "cell_type": "code",
   "execution_count": 89,
   "metadata": {},
   "outputs": [],
   "source": [
    "from keras.preprocessing.text import Tokenizer\n",
    "from keras.preprocessing.sequence import pad_sequences\n",
    "\n",
    "# Same thing for Tamil sentences\n",
    "TAM = Tokenizer()\n",
    "TAM.fit_on_texts(tamil_train)\n",
    "Y_train = TAM.texts_to_sequences(tamil_train)\n",
    "Y_test = TAM.texts_to_sequences(tamil_test)\n",
    "\n",
    "#adding EOS token\n",
    "_ = [y.append(0) for y in Y_train]\n",
    "_ = [y.append(0) for y in Y_test]"
   ]
  },
  {
   "cell_type": "code",
   "execution_count": 90,
   "metadata": {},
   "outputs": [
    {
     "name": "stdout",
     "output_type": "stream",
     "text": [
      "9723\n",
      "18670\n"
     ]
    }
   ],
   "source": [
    "source_vocab_size = len(ENG.vocab)\n",
    "target_vocab_size = len(TAM.word_index)+2\n",
    "print(source_vocab_size)\n",
    "print(target_vocab_size)"
   ]
  },
  {
   "cell_type": "code",
   "execution_count": 55,
   "metadata": {},
   "outputs": [],
   "source": [
    "class PositionEncoding(nn.Module):\n",
    "\n",
    "    def __init__(self, d_model, dropout=0.1, max_len=60):\n",
    "        super(PositionEncoding, self).__init__()\n",
    "        self.dropout = nn.Dropout(p=dropout)\n",
    "\n",
    "        pos_enc = torch.zeros(max_len, d_model)\n",
    "        position = torch.arange(0, max_len, dtype=torch.float).unsqueeze(1)\n",
    "        div_term = torch.exp(torch.arange(0, d_model, 2).float() * (-math.log(10000.0) / d_model))\n",
    "        # even columns use sin\n",
    "        pos_enc[:, 0::2] = torch.sin(position * div_term)\n",
    "        # odd columns use cos\n",
    "        pos_enc[:, 1::2] = torch.cos(position * div_term)\n",
    "        print('pos_enc.shape', pos_enc.shape)\n",
    "        #pos_enc = pos_enc.unsqueeze(0).transpose(0, 1)\n",
    "        \n",
    "        # to prevent the optimiser from changing the position encodings\n",
    "        self.register_buffer('pos_enc', pos_enc)\n",
    "\n",
    "    def forward(self, x):\n",
    "        x = x + self.pos_enc[:x.size(0), :]\n",
    "        return self.dropout(x)"
   ]
  },
  {
   "cell_type": "code",
   "execution_count": 74,
   "metadata": {},
   "outputs": [],
   "source": [
    "class Trans(nn.Module):\n",
    "    \n",
    "    def __init__(self, target_vocab_size, embed_size, num_heads, num_layers, dropout, ENG):\n",
    "        \n",
    "        super(Trans, self).__init__()\n",
    "        self.pos_encoder = PositionEncoding(embed_size, dropout)\n",
    "        self.encoder = nn.Embedding.from_pretrained(ENG.vocab.vectors)\n",
    "        self.transformer = nn.Transformer(embed_size, num_heads, num_layers, num_layers, dropout=dropout)\n",
    "        self.decoder = nn.Embedding(target_vocab_size, embed_size)\n",
    "        self.fc = nn.Linear(embed_size, target_vocab_size)\n",
    "        self.logsoftmax = nn.LogSoftmax(dim=1)\n",
    "        \n",
    "    def forward(self, src, trg):\n",
    "        \n",
    "        # src and trg will be 1-D tensors with size Ts and Tt\n",
    "        src = self.encoder(src)     # Ts x 100\n",
    "        src = self.pos_encoder(src) # Ts x 100\n",
    "        trg = self.decoder(trg)     # Tt x 100\n",
    "        trg = self.pos_encoder(trg) # Tt x 100\n",
    "        output = self.transformer(src.unsqueeze(1), trg.unsqueeze(1)) # Ts x 1 x 100 and Tt x 1 X 100 \n",
    "        output = self.fc(output.squeeze(1))  # output will now be Tt x target_vocab_size\n",
    "        output = self.logsoftmax(output)\n",
    "        \n",
    "        return output"
   ]
  },
  {
   "cell_type": "code",
   "execution_count": 75,
   "metadata": {},
   "outputs": [
    {
     "name": "stdout",
     "output_type": "stream",
     "text": [
      "pos_enc.shape torch.Size([60, 100])\n"
     ]
    }
   ],
   "source": [
    "embed_size = 100\n",
    "num_heads = 4\n",
    "num_layers = 2\n",
    "dropout = 0.2\n",
    "trans_model = Trans(target_vocab_size, embed_size, num_heads, num_layers, dropout, ENG)"
   ]
  },
  {
   "cell_type": "code",
   "execution_count": 76,
   "metadata": {},
   "outputs": [
    {
     "data": {
      "text/plain": [
       "Trans(\n",
       "  (pos_encoder): PositionEncoding(\n",
       "    (dropout): Dropout(p=0.2, inplace=False)\n",
       "  )\n",
       "  (encoder): Embedding(9736, 100)\n",
       "  (transformer): Transformer(\n",
       "    (encoder): TransformerEncoder(\n",
       "      (layers): ModuleList(\n",
       "        (0): TransformerEncoderLayer(\n",
       "          (self_attn): MultiheadAttention(\n",
       "            (out_proj): Linear(in_features=100, out_features=100, bias=True)\n",
       "          )\n",
       "          (linear1): Linear(in_features=100, out_features=2048, bias=True)\n",
       "          (dropout): Dropout(p=0.2, inplace=False)\n",
       "          (linear2): Linear(in_features=2048, out_features=100, bias=True)\n",
       "          (norm1): LayerNorm((100,), eps=1e-05, elementwise_affine=True)\n",
       "          (norm2): LayerNorm((100,), eps=1e-05, elementwise_affine=True)\n",
       "          (dropout1): Dropout(p=0.2, inplace=False)\n",
       "          (dropout2): Dropout(p=0.2, inplace=False)\n",
       "        )\n",
       "        (1): TransformerEncoderLayer(\n",
       "          (self_attn): MultiheadAttention(\n",
       "            (out_proj): Linear(in_features=100, out_features=100, bias=True)\n",
       "          )\n",
       "          (linear1): Linear(in_features=100, out_features=2048, bias=True)\n",
       "          (dropout): Dropout(p=0.2, inplace=False)\n",
       "          (linear2): Linear(in_features=2048, out_features=100, bias=True)\n",
       "          (norm1): LayerNorm((100,), eps=1e-05, elementwise_affine=True)\n",
       "          (norm2): LayerNorm((100,), eps=1e-05, elementwise_affine=True)\n",
       "          (dropout1): Dropout(p=0.2, inplace=False)\n",
       "          (dropout2): Dropout(p=0.2, inplace=False)\n",
       "        )\n",
       "      )\n",
       "      (norm): LayerNorm((100,), eps=1e-05, elementwise_affine=True)\n",
       "    )\n",
       "    (decoder): TransformerDecoder(\n",
       "      (layers): ModuleList(\n",
       "        (0): TransformerDecoderLayer(\n",
       "          (self_attn): MultiheadAttention(\n",
       "            (out_proj): Linear(in_features=100, out_features=100, bias=True)\n",
       "          )\n",
       "          (multihead_attn): MultiheadAttention(\n",
       "            (out_proj): Linear(in_features=100, out_features=100, bias=True)\n",
       "          )\n",
       "          (linear1): Linear(in_features=100, out_features=2048, bias=True)\n",
       "          (dropout): Dropout(p=0.2, inplace=False)\n",
       "          (linear2): Linear(in_features=2048, out_features=100, bias=True)\n",
       "          (norm1): LayerNorm((100,), eps=1e-05, elementwise_affine=True)\n",
       "          (norm2): LayerNorm((100,), eps=1e-05, elementwise_affine=True)\n",
       "          (norm3): LayerNorm((100,), eps=1e-05, elementwise_affine=True)\n",
       "          (dropout1): Dropout(p=0.2, inplace=False)\n",
       "          (dropout2): Dropout(p=0.2, inplace=False)\n",
       "          (dropout3): Dropout(p=0.2, inplace=False)\n",
       "        )\n",
       "        (1): TransformerDecoderLayer(\n",
       "          (self_attn): MultiheadAttention(\n",
       "            (out_proj): Linear(in_features=100, out_features=100, bias=True)\n",
       "          )\n",
       "          (multihead_attn): MultiheadAttention(\n",
       "            (out_proj): Linear(in_features=100, out_features=100, bias=True)\n",
       "          )\n",
       "          (linear1): Linear(in_features=100, out_features=2048, bias=True)\n",
       "          (dropout): Dropout(p=0.2, inplace=False)\n",
       "          (linear2): Linear(in_features=2048, out_features=100, bias=True)\n",
       "          (norm1): LayerNorm((100,), eps=1e-05, elementwise_affine=True)\n",
       "          (norm2): LayerNorm((100,), eps=1e-05, elementwise_affine=True)\n",
       "          (norm3): LayerNorm((100,), eps=1e-05, elementwise_affine=True)\n",
       "          (dropout1): Dropout(p=0.2, inplace=False)\n",
       "          (dropout2): Dropout(p=0.2, inplace=False)\n",
       "          (dropout3): Dropout(p=0.2, inplace=False)\n",
       "        )\n",
       "      )\n",
       "      (norm): LayerNorm((100,), eps=1e-05, elementwise_affine=True)\n",
       "    )\n",
       "  )\n",
       "  (decoder): Embedding(18669, 100)\n",
       "  (fc): Linear(in_features=100, out_features=18669, bias=True)\n",
       "  (logsoftmax): LogSoftmax()\n",
       ")"
      ]
     },
     "execution_count": 76,
     "metadata": {},
     "output_type": "execute_result"
    }
   ],
   "source": [
    "trans_model.to(device)"
   ]
  },
  {
   "cell_type": "code",
   "execution_count": 82,
   "metadata": {},
   "outputs": [],
   "source": [
    "def loss_per_pair(source_sentence, target_sentence, trans, trans_optimiser, loss_fn):\n",
    "    \n",
    "    Tt = target_sentence.size(-1)\n",
    "    trans_optimiser.zero_grad()\n",
    "    \n",
    "    loss_val = 0\n",
    "    \n",
    "    output = trans(source_sentence, target_sentence)\n",
    "         \n",
    "    for i in range(Tt):\n",
    "        target_word = torch.cuda.LongTensor([target_sentence[i].item()])\n",
    "        loss_val += loss_fn(output[i].unsqueeze(0), target_word)\n",
    "\n",
    "    loss_val.backward()\n",
    "    \n",
    "    nn.utils.clip_grad_norm_(trans.parameters(), 0.5, 1)\n",
    "\n",
    "    trans_optimiser.step()\n",
    "    \n",
    "    return loss_val.item()/Tt"
   ]
  },
  {
   "cell_type": "code",
   "execution_count": 64,
   "metadata": {},
   "outputs": [],
   "source": [
    "def train_model(sources, targets, trans):\n",
    "    \n",
    "    loss_fn = nn.NLLLoss()\n",
    "    trans_optimiser = optim.SGD(trans.parameters(), lr=0.001, momentum=0.9)\n",
    "    \n",
    "    max_epochs = 100\n",
    "    old_loss = np.inf\n",
    "    indices = [i for i in range(len(sources))]\n",
    "    \n",
    "    for epoch in range(max_epochs):\n",
    "        \n",
    "        # shuffling the input data manually at the start of every new epoch\n",
    "        np.random.shuffle(indices)\n",
    "        sources = list(np.array(sources)[indices])\n",
    "        targets = list(np.array(targets)[indices])\n",
    "        \n",
    "        running_loss = 0.0\n",
    "        num_sentences = len(sources)\n",
    "        \n",
    "        for i in range(num_sentences):\n",
    "            source_sentence = torch.cuda.LongTensor(sources[i])\n",
    "            target_sentence = torch.cuda.LongTensor(targets[i])\n",
    "\n",
    "            loss = loss_per_pair(source_sentence, target_sentence, trans, trans_optimiser, loss_fn)\n",
    "            running_loss += loss\n",
    "\n",
    "            if i%int(num_sentences*0.1)==0:\n",
    "                print(\"Epoch\", epoch+1, \":\", (i/int(num_sentences*0.1))*10,'% done')\n",
    "                print(\"Current loss:\", running_loss)\n",
    "        \n",
    "        \n",
    "        if abs(running_loss-old_loss)/running_loss < 1e-3:\n",
    "            print('Converged')\n",
    "            break\n",
    "    \n",
    "        old_loss = running_loss\n",
    "\n",
    "    print(\"Finished Training\")"
   ]
  },
  {
   "cell_type": "code",
   "execution_count": 83,
   "metadata": {},
   "outputs": [
    {
     "name": "stdout",
     "output_type": "stream",
     "text": [
      "Epoch 1 : 0.0 % done\n",
      "Current loss: 10.227967262268066\n",
      "Epoch 1 : 10.0 % done\n",
      "Current loss: 26127.432748616837\n",
      "Epoch 1 : 20.0 % done\n",
      "Current loss: 52138.69940703216\n",
      "Epoch 1 : 30.0 % done\n",
      "Current loss: 78144.8166929593\n",
      "Epoch 1 : 40.0 % done\n",
      "Current loss: 104068.20179332324\n",
      "Epoch 1 : 50.0 % done\n",
      "Current loss: 129948.20768857018\n",
      "Epoch 1 : 60.0 % done\n",
      "Current loss: 155776.95081889405\n",
      "Epoch 1 : 70.0 % done\n",
      "Current loss: 181539.76147778556\n",
      "Epoch 1 : 80.0 % done\n",
      "Current loss: 207259.32553306952\n",
      "Epoch 1 : 90.0 % done\n",
      "Current loss: 232898.9758581852\n",
      "Epoch 1 : 100.0 % done\n",
      "Current loss: 258483.4850621908\n",
      "Epoch 2 : 0.0 % done\n",
      "Current loss: 9.78580093383789\n",
      "Epoch 2 : 10.0 % done\n",
      "Current loss: 25544.086800405923\n",
      "Epoch 2 : 20.0 % done\n",
      "Current loss: 51007.276134223735\n",
      "Epoch 2 : 30.0 % done\n",
      "Current loss: 76397.7731893967\n",
      "Epoch 2 : 40.0 % done\n",
      "Current loss: 101766.95441605119\n",
      "Epoch 2 : 50.0 % done\n",
      "Current loss: 127083.27817015359\n",
      "Epoch 2 : 60.0 % done\n",
      "Current loss: 152328.2571887134\n",
      "Epoch 2 : 70.0 % done\n",
      "Current loss: 177541.13448671938\n",
      "Epoch 2 : 80.0 % done\n",
      "Current loss: 202678.56534378193\n",
      "Epoch 2 : 90.0 % done\n",
      "Current loss: 227746.13130587095\n",
      "Epoch 2 : 100.0 % done\n",
      "Current loss: 252770.94424537217\n",
      "Epoch 3 : 0.0 % done\n",
      "Current loss: 9.909564208984374\n",
      "Epoch 3 : 10.0 % done\n",
      "Current loss: 24969.416307473308\n"
     ]
    },
    {
     "ename": "KeyboardInterrupt",
     "evalue": "",
     "output_type": "error",
     "traceback": [
      "\u001b[1;31m---------------------------------------------------------------------------\u001b[0m",
      "\u001b[1;31mKeyboardInterrupt\u001b[0m                         Traceback (most recent call last)",
      "\u001b[1;32m<ipython-input-83-17ece7ba016c>\u001b[0m in \u001b[0;36m<module>\u001b[1;34m\u001b[0m\n\u001b[1;32m----> 1\u001b[1;33m \u001b[0mtrain_model\u001b[0m\u001b[1;33m(\u001b[0m\u001b[0mX_train\u001b[0m\u001b[1;33m,\u001b[0m \u001b[0mY_train\u001b[0m\u001b[1;33m,\u001b[0m \u001b[0mtrans_model\u001b[0m\u001b[1;33m)\u001b[0m\u001b[1;33m\u001b[0m\u001b[1;33m\u001b[0m\u001b[0m\n\u001b[0m",
      "\u001b[1;32m<ipython-input-64-813745ebe048>\u001b[0m in \u001b[0;36mtrain_model\u001b[1;34m(sources, targets, trans)\u001b[0m\n\u001b[0;32m     22\u001b[0m             \u001b[0mtarget_sentence\u001b[0m \u001b[1;33m=\u001b[0m \u001b[0mtorch\u001b[0m\u001b[1;33m.\u001b[0m\u001b[0mcuda\u001b[0m\u001b[1;33m.\u001b[0m\u001b[0mLongTensor\u001b[0m\u001b[1;33m(\u001b[0m\u001b[0mtargets\u001b[0m\u001b[1;33m[\u001b[0m\u001b[0mi\u001b[0m\u001b[1;33m]\u001b[0m\u001b[1;33m)\u001b[0m\u001b[1;33m\u001b[0m\u001b[1;33m\u001b[0m\u001b[0m\n\u001b[0;32m     23\u001b[0m \u001b[1;33m\u001b[0m\u001b[0m\n\u001b[1;32m---> 24\u001b[1;33m             \u001b[0mloss\u001b[0m \u001b[1;33m=\u001b[0m \u001b[0mloss_per_pair\u001b[0m\u001b[1;33m(\u001b[0m\u001b[0msource_sentence\u001b[0m\u001b[1;33m,\u001b[0m \u001b[0mtarget_sentence\u001b[0m\u001b[1;33m,\u001b[0m \u001b[0mtrans\u001b[0m\u001b[1;33m,\u001b[0m \u001b[0mtrans_optimiser\u001b[0m\u001b[1;33m,\u001b[0m \u001b[0mloss_fn\u001b[0m\u001b[1;33m)\u001b[0m\u001b[1;33m\u001b[0m\u001b[1;33m\u001b[0m\u001b[0m\n\u001b[0m\u001b[0;32m     25\u001b[0m             \u001b[0mrunning_loss\u001b[0m \u001b[1;33m+=\u001b[0m \u001b[0mloss\u001b[0m\u001b[1;33m\u001b[0m\u001b[1;33m\u001b[0m\u001b[0m\n\u001b[0;32m     26\u001b[0m \u001b[1;33m\u001b[0m\u001b[0m\n",
      "\u001b[1;32m<ipython-input-82-6fc255130210>\u001b[0m in \u001b[0;36mloss_per_pair\u001b[1;34m(source_sentence, target_sentence, trans, trans_optimiser, loss_fn)\u001b[0m\n\u001b[0;32m     16\u001b[0m     \u001b[0mnn\u001b[0m\u001b[1;33m.\u001b[0m\u001b[0mutils\u001b[0m\u001b[1;33m.\u001b[0m\u001b[0mclip_grad_norm_\u001b[0m\u001b[1;33m(\u001b[0m\u001b[0mtrans\u001b[0m\u001b[1;33m.\u001b[0m\u001b[0mparameters\u001b[0m\u001b[1;33m(\u001b[0m\u001b[1;33m)\u001b[0m\u001b[1;33m,\u001b[0m \u001b[1;36m0.5\u001b[0m\u001b[1;33m,\u001b[0m \u001b[1;36m1\u001b[0m\u001b[1;33m)\u001b[0m\u001b[1;33m\u001b[0m\u001b[1;33m\u001b[0m\u001b[0m\n\u001b[0;32m     17\u001b[0m \u001b[1;33m\u001b[0m\u001b[0m\n\u001b[1;32m---> 18\u001b[1;33m     \u001b[0mtrans_optimiser\u001b[0m\u001b[1;33m.\u001b[0m\u001b[0mstep\u001b[0m\u001b[1;33m(\u001b[0m\u001b[1;33m)\u001b[0m\u001b[1;33m\u001b[0m\u001b[1;33m\u001b[0m\u001b[0m\n\u001b[0m\u001b[0;32m     19\u001b[0m \u001b[1;33m\u001b[0m\u001b[0m\n\u001b[0;32m     20\u001b[0m     \u001b[1;32mreturn\u001b[0m \u001b[0mloss_val\u001b[0m\u001b[1;33m.\u001b[0m\u001b[0mitem\u001b[0m\u001b[1;33m(\u001b[0m\u001b[1;33m)\u001b[0m\u001b[1;33m/\u001b[0m\u001b[0mTt\u001b[0m\u001b[1;33m\u001b[0m\u001b[1;33m\u001b[0m\u001b[0m\n",
      "\u001b[1;32mc:\\users\\vasistha singhal\\appdata\\local\\programs\\python\\python37\\lib\\site-packages\\torch\\autograd\\grad_mode.py\u001b[0m in \u001b[0;36mdecorate_context\u001b[1;34m(*args, **kwargs)\u001b[0m\n\u001b[0;32m     13\u001b[0m         \u001b[1;32mdef\u001b[0m \u001b[0mdecorate_context\u001b[0m\u001b[1;33m(\u001b[0m\u001b[1;33m*\u001b[0m\u001b[0margs\u001b[0m\u001b[1;33m,\u001b[0m \u001b[1;33m**\u001b[0m\u001b[0mkwargs\u001b[0m\u001b[1;33m)\u001b[0m\u001b[1;33m:\u001b[0m\u001b[1;33m\u001b[0m\u001b[1;33m\u001b[0m\u001b[0m\n\u001b[0;32m     14\u001b[0m             \u001b[1;32mwith\u001b[0m \u001b[0mself\u001b[0m\u001b[1;33m:\u001b[0m\u001b[1;33m\u001b[0m\u001b[1;33m\u001b[0m\u001b[0m\n\u001b[1;32m---> 15\u001b[1;33m                 \u001b[1;32mreturn\u001b[0m \u001b[0mfunc\u001b[0m\u001b[1;33m(\u001b[0m\u001b[1;33m*\u001b[0m\u001b[0margs\u001b[0m\u001b[1;33m,\u001b[0m \u001b[1;33m**\u001b[0m\u001b[0mkwargs\u001b[0m\u001b[1;33m)\u001b[0m\u001b[1;33m\u001b[0m\u001b[1;33m\u001b[0m\u001b[0m\n\u001b[0m\u001b[0;32m     16\u001b[0m         \u001b[1;32mreturn\u001b[0m \u001b[0mdecorate_context\u001b[0m\u001b[1;33m\u001b[0m\u001b[1;33m\u001b[0m\u001b[0m\n\u001b[0;32m     17\u001b[0m \u001b[1;33m\u001b[0m\u001b[0m\n",
      "\u001b[1;32mc:\\users\\vasistha singhal\\appdata\\local\\programs\\python\\python37\\lib\\site-packages\\torch\\optim\\sgd.py\u001b[0m in \u001b[0;36mstep\u001b[1;34m(self, closure)\u001b[0m\n\u001b[0;32m    104\u001b[0m                     \u001b[1;32melse\u001b[0m\u001b[1;33m:\u001b[0m\u001b[1;33m\u001b[0m\u001b[1;33m\u001b[0m\u001b[0m\n\u001b[0;32m    105\u001b[0m                         \u001b[0mbuf\u001b[0m \u001b[1;33m=\u001b[0m \u001b[0mparam_state\u001b[0m\u001b[1;33m[\u001b[0m\u001b[1;34m'momentum_buffer'\u001b[0m\u001b[1;33m]\u001b[0m\u001b[1;33m\u001b[0m\u001b[1;33m\u001b[0m\u001b[0m\n\u001b[1;32m--> 106\u001b[1;33m                         \u001b[0mbuf\u001b[0m\u001b[1;33m.\u001b[0m\u001b[0mmul_\u001b[0m\u001b[1;33m(\u001b[0m\u001b[0mmomentum\u001b[0m\u001b[1;33m)\u001b[0m\u001b[1;33m.\u001b[0m\u001b[0madd_\u001b[0m\u001b[1;33m(\u001b[0m\u001b[0md_p\u001b[0m\u001b[1;33m,\u001b[0m \u001b[0malpha\u001b[0m\u001b[1;33m=\u001b[0m\u001b[1;36m1\u001b[0m \u001b[1;33m-\u001b[0m \u001b[0mdampening\u001b[0m\u001b[1;33m)\u001b[0m\u001b[1;33m\u001b[0m\u001b[1;33m\u001b[0m\u001b[0m\n\u001b[0m\u001b[0;32m    107\u001b[0m                     \u001b[1;32mif\u001b[0m \u001b[0mnesterov\u001b[0m\u001b[1;33m:\u001b[0m\u001b[1;33m\u001b[0m\u001b[1;33m\u001b[0m\u001b[0m\n\u001b[0;32m    108\u001b[0m                         \u001b[0md_p\u001b[0m \u001b[1;33m=\u001b[0m \u001b[0md_p\u001b[0m\u001b[1;33m.\u001b[0m\u001b[0madd\u001b[0m\u001b[1;33m(\u001b[0m\u001b[0mbuf\u001b[0m\u001b[1;33m,\u001b[0m \u001b[0malpha\u001b[0m\u001b[1;33m=\u001b[0m\u001b[0mmomentum\u001b[0m\u001b[1;33m)\u001b[0m\u001b[1;33m\u001b[0m\u001b[1;33m\u001b[0m\u001b[0m\n",
      "\u001b[1;31mKeyboardInterrupt\u001b[0m: "
     ]
    }
   ],
   "source": [
    "train_model(X_train, Y_train, trans_model)"
   ]
  },
  {
   "cell_type": "code",
   "execution_count": null,
   "metadata": {},
   "outputs": [],
   "source": []
  }
 ],
 "metadata": {
  "kernelspec": {
   "display_name": "Python 3",
   "language": "python",
   "name": "python3"
  },
  "language_info": {
   "codemirror_mode": {
    "name": "ipython",
    "version": 3
   },
   "file_extension": ".py",
   "mimetype": "text/x-python",
   "name": "python",
   "nbconvert_exporter": "python",
   "pygments_lexer": "ipython3",
   "version": "3.7.4"
  }
 },
 "nbformat": 4,
 "nbformat_minor": 2
}

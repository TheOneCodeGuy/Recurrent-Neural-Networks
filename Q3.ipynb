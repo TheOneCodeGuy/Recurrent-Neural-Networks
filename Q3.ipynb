{
 "cells": [
  {
   "cell_type": "code",
   "execution_count": 1,
   "metadata": {},
   "outputs": [],
   "source": [
    "import os\n",
    "os.environ['CUDA_LAUNCH_BLOCKING'] = '1'"
   ]
  },
  {
   "cell_type": "code",
   "execution_count": 2,
   "metadata": {},
   "outputs": [],
   "source": [
    "import torch\n",
    "import torch.nn as nn\n",
    "import torch.nn.functional as F\n",
    "import numpy as np\n",
    "import torch.optim as optim\n",
    "from torchtext.vocab import GloVe\n",
    "from torchtext.data import Field, BucketIterator\n",
    "from torchtext.data.metrics import bleu_score\n",
    "import spacy"
   ]
  },
  {
   "cell_type": "code",
   "execution_count": 3,
   "metadata": {},
   "outputs": [
    {
     "data": {
      "text/plain": [
       "device(type='cuda')"
      ]
     },
     "execution_count": 3,
     "metadata": {},
     "output_type": "execute_result"
    }
   ],
   "source": [
    "device = torch.device(\"cuda\" if torch.cuda.is_available() else \"cpu\")\n",
    "device"
   ]
  },
  {
   "cell_type": "code",
   "execution_count": 8,
   "metadata": {},
   "outputs": [],
   "source": [
    "#Reading files\n",
    "\n",
    "with open('trainen.txt', encoding='utf8') as f:\n",
    "    eng_train = list(map(lambda x: x.rstrip(), f.readlines()))\n",
    "    \n",
    "with open('trainta.txt', encoding='utf8') as f:\n",
    "    tamil_train = list(map(lambda x: x.rstrip(), f.readlines()))\n",
    "    \n",
    "with open('deven.txt', encoding='utf8') as f:\n",
    "    eng_test = list(map(lambda x: x.rstrip(), f.readlines()))\n",
    "    \n",
    "with open('devta.txt', encoding='utf8') as f:\n",
    "    tamil_test = list(map(lambda x: x.rstrip(), f.readlines()))\n",
    "    \n",
    "embedding_glove = GloVe(name='6B', dim=100)\n",
    "\n",
    "spacy_en = spacy.load('en_core_web_sm')\n",
    "\n",
    "def tokenize_en(text):\n",
    "    return [tok.text for tok in spacy_en.tokenizer(text)]\n",
    "\n",
    "ENG = Field(tokenize = tokenize_en, init_token='sos', eos_token = 'eos', lower=True)\n",
    "processed_eng_train = list(map(lambda x: ENG.preprocess(x), eng_train))\n",
    "processed_eng_test = list(map(lambda x: ENG.preprocess(x), eng_test))\n",
    "\n",
    "ENG.build_vocab(processed_eng_train, vectors=embedding_glove)"
   ]
  },
  {
   "cell_type": "code",
   "execution_count": 9,
   "metadata": {},
   "outputs": [],
   "source": [
    "def preprocess(processed_eng):\n",
    "    \n",
    "    #function to return the numericalized version of the tokenized sentences\n",
    "    X = []\n",
    "    for tokenized_sentence in processed_eng:\n",
    "        int_sequence = [2]  #first element is the SOS token \n",
    "        for token in tokenized_sentence:\n",
    "            int_sequence.append(ENG.vocab.stoi[token])\n",
    "        int_sequence.append(3) #last element is the EOS token\n",
    "        X.append(int_sequence)\n",
    "    \n",
    "    return X\n",
    "\n",
    "# X_train and X_test are lists of lists with the integer sequences for a given sentence\n",
    "X_train = preprocess(processed_eng_train)\n",
    "X_test = preprocess(processed_eng_test)"
   ]
  },
  {
   "cell_type": "code",
   "execution_count": 10,
   "metadata": {},
   "outputs": [
    {
     "name": "stderr",
     "output_type": "stream",
     "text": [
      "Using TensorFlow backend.\n"
     ]
    }
   ],
   "source": [
    "from keras.preprocessing.text import Tokenizer\n",
    "from keras.preprocessing.sequence import pad_sequences\n",
    "\n",
    "# Same thing for Tamil sentences\n",
    "TAM = Tokenizer()\n",
    "TAM.fit_on_texts(tamil_train)\n",
    "Y_train = TAM.texts_to_sequences(tamil_train)\n",
    "Y_test = TAM.texts_to_sequences(tamil_test)\n",
    "\n",
    "#adding EOS token\n",
    "_ = [y.append(0) for y in Y_train]\n",
    "_ = [y.append(0) for y in Y_test]"
   ]
  },
  {
   "cell_type": "code",
   "execution_count": 11,
   "metadata": {},
   "outputs": [
    {
     "name": "stdout",
     "output_type": "stream",
     "text": [
      "9736\n",
      "18669\n"
     ]
    }
   ],
   "source": [
    "source_vocab_size = len(ENG.vocab)\n",
    "target_vocab_size = len(TAM.word_index)+1\n",
    "print(source_vocab_size)\n",
    "print(target_vocab_size)"
   ]
  },
  {
   "cell_type": "code",
   "execution_count": 12,
   "metadata": {},
   "outputs": [],
   "source": [
    "class Encoder(nn.Module):\n",
    "    \n",
    "    def __init__(self, embed_size, ENG):\n",
    "        \n",
    "        super(Encoder, self).__init__()\n",
    "        self.embed_size = embed_size\n",
    "        self.embed = nn.Embedding.from_pretrained(ENG.vocab.vectors)\n",
    "        self.lstm = nn.LSTM(embed_size, embed_size)\n",
    "        \n",
    "    def forward(self, x, enc_hidden):\n",
    "        \n",
    "        enc_output, enc_hidden = self.lstm(self.embed(x).view(1,1,-1), enc_hidden)\n",
    "        return enc_output, enc_hidden"
   ]
  },
  {
   "cell_type": "code",
   "execution_count": 41,
   "metadata": {},
   "outputs": [],
   "source": [
    "class Decoder(nn.Module):\n",
    "    \n",
    "    def __init__(self, embed_size, n_classes):\n",
    "        \n",
    "        super(Decoder, self).__init__()\n",
    "        self.embed_size = embed_size\n",
    "        self.embed = nn.Embedding(n_classes, embed_size)\n",
    "        self.lstm = nn.LSTM(embed_size, embed_size)\n",
    "        self.fc = nn.Linear(embed_size, n_classes)\n",
    "        self.logsoftmax = nn.LogSoftmax(dim=1)\n",
    "    \n",
    "    def forward(self, x, dec_hidden):\n",
    "        \n",
    "        dec_output, dec_hidden = self.lstm(self.embed(x).view(1,1,-1), dec_hidden)\n",
    "        dec_output = self.logsoftmax(self.fc(dec_output[0]))\n",
    "        return dec_output, dec_hidden"
   ]
  },
  {
   "cell_type": "code",
   "execution_count": 51,
   "metadata": {},
   "outputs": [],
   "source": [
    "def loss_per_pair(source_sentence, target_sentence, enc_obj, dec_obj, enc_optimiser, dec_optimiser, loss_fn):\n",
    "    \n",
    "    Ts = source_sentence.size(-1)\n",
    "    Tt = target_sentence.size(-1)\n",
    "    enc_hidden = (torch.zeros(1, 1, enc_obj.embed_size, device=device), torch.zeros(1, 1, enc_obj.embed_size, device=device))\n",
    "    #all_enc_outputs = torch.zeros(60, enc_obj.embed_size, device=device)\n",
    "    \n",
    "    enc_optimiser.zero_grad()\n",
    "    dec_optimiser.zero_grad()\n",
    "    \n",
    "    loss_val = 0\n",
    "    \n",
    "    for i in range(Ts):\n",
    "        enc_output, enc_hidden = enc_obj(source_sentence[i], enc_hidden)\n",
    "        #all_enc_outputs[i] = enc_output[0,0]\n",
    "        \n",
    "    dec_input = torch.tensor([[2]], device=device)  #SOS token\n",
    "    \n",
    "    dec_hidden = (enc_hidden[0], torch.zeros(1, 1, dec_obj.embed_size, device=device))\n",
    "    \n",
    "    for i in range(Tt):\n",
    "        dec_output, dec_hidden = dec_obj(dec_input, dec_hidden)\n",
    "        _ , index = dec_output.topk(1)\n",
    "        dec_input = index.squeeze().detach()\n",
    "        \n",
    "        target_word = torch.cuda.LongTensor([target_sentence[i].item()])\n",
    "        \n",
    "        loss_val += loss_fn(dec_output, target_word)\n",
    "        \n",
    "        if dec_input.item() == 0:\n",
    "            break\n",
    "\n",
    "    loss_val.backward()\n",
    "\n",
    "    enc_optimiser.step()\n",
    "    dec_optimiser.step()\n",
    "\n",
    "    return loss_val.item()/Tt"
   ]
  },
  {
   "cell_type": "code",
   "execution_count": 15,
   "metadata": {},
   "outputs": [],
   "source": [
    "def train_model(sources, targets, enc_obj, dec_obj):\n",
    "    \n",
    "    loss_fn = nn.NLLLoss()\n",
    "    enc_optimiser = optim.SGD(enc_obj.parameters(), lr=0.001, momentum=0.9)\n",
    "    dec_optimiser = optim.SGD(dec_obj.parameters(), lr=0.001, momentum=0.9)\n",
    "    \n",
    "    max_epochs = 100\n",
    "    old_loss = np.inf\n",
    "    indices = [i for i in range(len(sources))]\n",
    "    \n",
    "    for epoch in range(max_epochs):\n",
    "        \n",
    "        # shuffling the input data manually at the start of every new epoch\n",
    "        np.random.shuffle(indices)\n",
    "        sources = list(np.array(sources)[indices])\n",
    "        targets = list(np.array(targets)[indices])\n",
    "        \n",
    "        running_loss = 0.0\n",
    "        num_sentences = len(sources)\n",
    "        \n",
    "        for i in range(num_sentences):\n",
    "            source_sentence = torch.cuda.LongTensor(sources[i])\n",
    "            target_sentence = torch.cuda.LongTensor(targets[i])\n",
    "\n",
    "            loss = loss_per_pair(source_sentence, target_sentence, enc_obj, dec_obj, enc_optimiser, dec_optimiser, loss_fn)\n",
    "            running_loss += loss\n",
    "\n",
    "            if i%int(num_sentences*0.1)==0:\n",
    "                print(\"Epoch\", epoch+1, \":\", (i/int(num_sentences*0.1))*10,'% done')\n",
    "                print(\"Current loss:\", running_loss)\n",
    "                \n",
    "        if abs(running_loss-old_loss)/running_loss < 1e-3:\n",
    "            print('Converged')\n",
    "            break\n",
    "    \n",
    "        old_loss = running_loss\n",
    "\n",
    "    print(\"Finished Training\")"
   ]
  },
  {
   "cell_type": "code",
   "execution_count": 52,
   "metadata": {},
   "outputs": [
    {
     "name": "stdout",
     "output_type": "stream",
     "text": [
      "Epoch 1 : 0.0 % done\n",
      "Current loss: 9.92596664428711\n"
     ]
    },
    {
     "ename": "KeyboardInterrupt",
     "evalue": "",
     "output_type": "error",
     "traceback": [
      "\u001b[1;31m---------------------------------------------------------------------------\u001b[0m",
      "\u001b[1;31mKeyboardInterrupt\u001b[0m                         Traceback (most recent call last)",
      "\u001b[1;32m<ipython-input-52-b574526a1e58>\u001b[0m in \u001b[0;36m<module>\u001b[1;34m\u001b[0m\n\u001b[0;32m      2\u001b[0m \u001b[0mencoder\u001b[0m \u001b[1;33m=\u001b[0m \u001b[0mEncoder\u001b[0m\u001b[1;33m(\u001b[0m\u001b[0membedding_size\u001b[0m\u001b[1;33m,\u001b[0m \u001b[0mENG\u001b[0m\u001b[1;33m)\u001b[0m\u001b[1;33m.\u001b[0m\u001b[0mto\u001b[0m\u001b[1;33m(\u001b[0m\u001b[0mdevice\u001b[0m\u001b[1;33m)\u001b[0m\u001b[1;33m\u001b[0m\u001b[1;33m\u001b[0m\u001b[0m\n\u001b[0;32m      3\u001b[0m \u001b[0mdecoder\u001b[0m \u001b[1;33m=\u001b[0m \u001b[0mDecoder\u001b[0m\u001b[1;33m(\u001b[0m\u001b[0membedding_size\u001b[0m\u001b[1;33m,\u001b[0m \u001b[0mtarget_vocab_size\u001b[0m\u001b[1;33m)\u001b[0m\u001b[1;33m.\u001b[0m\u001b[0mto\u001b[0m\u001b[1;33m(\u001b[0m\u001b[0mdevice\u001b[0m\u001b[1;33m)\u001b[0m\u001b[1;33m\u001b[0m\u001b[1;33m\u001b[0m\u001b[0m\n\u001b[1;32m----> 4\u001b[1;33m \u001b[0mtrain_model\u001b[0m\u001b[1;33m(\u001b[0m\u001b[0mX_train\u001b[0m\u001b[1;33m,\u001b[0m \u001b[0mY_train\u001b[0m\u001b[1;33m,\u001b[0m \u001b[0mencoder\u001b[0m\u001b[1;33m,\u001b[0m \u001b[0mdecoder\u001b[0m\u001b[1;33m)\u001b[0m\u001b[1;33m\u001b[0m\u001b[1;33m\u001b[0m\u001b[0m\n\u001b[0m",
      "\u001b[1;32m<ipython-input-15-8a23014628df>\u001b[0m in \u001b[0;36mtrain_model\u001b[1;34m(sources, targets, enc_obj, dec_obj)\u001b[0m\n\u001b[0;32m     23\u001b[0m             \u001b[0mtarget_sentence\u001b[0m \u001b[1;33m=\u001b[0m \u001b[0mtorch\u001b[0m\u001b[1;33m.\u001b[0m\u001b[0mcuda\u001b[0m\u001b[1;33m.\u001b[0m\u001b[0mLongTensor\u001b[0m\u001b[1;33m(\u001b[0m\u001b[0mtargets\u001b[0m\u001b[1;33m[\u001b[0m\u001b[0mi\u001b[0m\u001b[1;33m]\u001b[0m\u001b[1;33m)\u001b[0m\u001b[1;33m\u001b[0m\u001b[1;33m\u001b[0m\u001b[0m\n\u001b[0;32m     24\u001b[0m \u001b[1;33m\u001b[0m\u001b[0m\n\u001b[1;32m---> 25\u001b[1;33m             \u001b[0mloss\u001b[0m \u001b[1;33m=\u001b[0m \u001b[0mloss_per_pair\u001b[0m\u001b[1;33m(\u001b[0m\u001b[0msource_sentence\u001b[0m\u001b[1;33m,\u001b[0m \u001b[0mtarget_sentence\u001b[0m\u001b[1;33m,\u001b[0m \u001b[0menc_obj\u001b[0m\u001b[1;33m,\u001b[0m \u001b[0mdec_obj\u001b[0m\u001b[1;33m,\u001b[0m \u001b[0menc_optimiser\u001b[0m\u001b[1;33m,\u001b[0m \u001b[0mdec_optimiser\u001b[0m\u001b[1;33m,\u001b[0m \u001b[0mloss_fn\u001b[0m\u001b[1;33m)\u001b[0m\u001b[1;33m\u001b[0m\u001b[1;33m\u001b[0m\u001b[0m\n\u001b[0m\u001b[0;32m     26\u001b[0m             \u001b[0mrunning_loss\u001b[0m \u001b[1;33m+=\u001b[0m \u001b[0mloss\u001b[0m\u001b[1;33m\u001b[0m\u001b[1;33m\u001b[0m\u001b[0m\n\u001b[0;32m     27\u001b[0m \u001b[1;33m\u001b[0m\u001b[0m\n",
      "\u001b[1;32m<ipython-input-51-0b53d0cd2862>\u001b[0m in \u001b[0;36mloss_per_pair\u001b[1;34m(source_sentence, target_sentence, enc_obj, dec_obj, enc_optimiser, dec_optimiser, loss_fn)\u001b[0m\n\u001b[0;32m     31\u001b[0m             \u001b[1;32mbreak\u001b[0m\u001b[1;33m\u001b[0m\u001b[1;33m\u001b[0m\u001b[0m\n\u001b[0;32m     32\u001b[0m \u001b[1;33m\u001b[0m\u001b[0m\n\u001b[1;32m---> 33\u001b[1;33m     \u001b[0mloss_val\u001b[0m\u001b[1;33m.\u001b[0m\u001b[0mbackward\u001b[0m\u001b[1;33m(\u001b[0m\u001b[1;33m)\u001b[0m\u001b[1;33m\u001b[0m\u001b[1;33m\u001b[0m\u001b[0m\n\u001b[0m\u001b[0;32m     34\u001b[0m \u001b[1;33m\u001b[0m\u001b[0m\n\u001b[0;32m     35\u001b[0m     \u001b[0menc_optimiser\u001b[0m\u001b[1;33m.\u001b[0m\u001b[0mstep\u001b[0m\u001b[1;33m(\u001b[0m\u001b[1;33m)\u001b[0m\u001b[1;33m\u001b[0m\u001b[1;33m\u001b[0m\u001b[0m\n",
      "\u001b[1;32mc:\\users\\vasistha singhal\\appdata\\local\\programs\\python\\python37\\lib\\site-packages\\torch\\tensor.py\u001b[0m in \u001b[0;36mbackward\u001b[1;34m(self, gradient, retain_graph, create_graph)\u001b[0m\n\u001b[0;32m    196\u001b[0m                 \u001b[0mproducts\u001b[0m\u001b[1;33m.\u001b[0m \u001b[0mDefaults\u001b[0m \u001b[0mto\u001b[0m\u001b[0;31m \u001b[0m\u001b[0;31m`\u001b[0m\u001b[0;31m`\u001b[0m\u001b[1;32mFalse\u001b[0m\u001b[0;31m`\u001b[0m\u001b[0;31m`\u001b[0m\u001b[1;33m.\u001b[0m\u001b[1;33m\u001b[0m\u001b[1;33m\u001b[0m\u001b[0m\n\u001b[0;32m    197\u001b[0m         \"\"\"\n\u001b[1;32m--> 198\u001b[1;33m         \u001b[0mtorch\u001b[0m\u001b[1;33m.\u001b[0m\u001b[0mautograd\u001b[0m\u001b[1;33m.\u001b[0m\u001b[0mbackward\u001b[0m\u001b[1;33m(\u001b[0m\u001b[0mself\u001b[0m\u001b[1;33m,\u001b[0m \u001b[0mgradient\u001b[0m\u001b[1;33m,\u001b[0m \u001b[0mretain_graph\u001b[0m\u001b[1;33m,\u001b[0m \u001b[0mcreate_graph\u001b[0m\u001b[1;33m)\u001b[0m\u001b[1;33m\u001b[0m\u001b[1;33m\u001b[0m\u001b[0m\n\u001b[0m\u001b[0;32m    199\u001b[0m \u001b[1;33m\u001b[0m\u001b[0m\n\u001b[0;32m    200\u001b[0m     \u001b[1;32mdef\u001b[0m \u001b[0mregister_hook\u001b[0m\u001b[1;33m(\u001b[0m\u001b[0mself\u001b[0m\u001b[1;33m,\u001b[0m \u001b[0mhook\u001b[0m\u001b[1;33m)\u001b[0m\u001b[1;33m:\u001b[0m\u001b[1;33m\u001b[0m\u001b[1;33m\u001b[0m\u001b[0m\n",
      "\u001b[1;32mc:\\users\\vasistha singhal\\appdata\\local\\programs\\python\\python37\\lib\\site-packages\\torch\\autograd\\__init__.py\u001b[0m in \u001b[0;36mbackward\u001b[1;34m(tensors, grad_tensors, retain_graph, create_graph, grad_variables)\u001b[0m\n\u001b[0;32m     98\u001b[0m     Variable._execution_engine.run_backward(\n\u001b[0;32m     99\u001b[0m         \u001b[0mtensors\u001b[0m\u001b[1;33m,\u001b[0m \u001b[0mgrad_tensors\u001b[0m\u001b[1;33m,\u001b[0m \u001b[0mretain_graph\u001b[0m\u001b[1;33m,\u001b[0m \u001b[0mcreate_graph\u001b[0m\u001b[1;33m,\u001b[0m\u001b[1;33m\u001b[0m\u001b[1;33m\u001b[0m\u001b[0m\n\u001b[1;32m--> 100\u001b[1;33m         allow_unreachable=True)  # allow_unreachable flag\n\u001b[0m\u001b[0;32m    101\u001b[0m \u001b[1;33m\u001b[0m\u001b[0m\n\u001b[0;32m    102\u001b[0m \u001b[1;33m\u001b[0m\u001b[0m\n",
      "\u001b[1;31mKeyboardInterrupt\u001b[0m: "
     ]
    }
   ],
   "source": [
    "embedding_size = 100\n",
    "encoder = Encoder(embedding_size, ENG).to(device)\n",
    "decoder = Decoder(embedding_size, target_vocab_size).to(device)\n",
    "train_model(X_train, Y_train, encoder, decoder)"
   ]
  },
  {
   "cell_type": "code",
   "execution_count": 47,
   "metadata": {},
   "outputs": [],
   "source": [
    "def eval_bleu(enc_obj, dec_obj, source_sentence, target, target_vocab_dict):\n",
    "    \n",
    "    # function to return the BLEU score for a single sentence \n",
    "    \n",
    "    with torch.no_grad():\n",
    "        \n",
    "        Ts = source_sentence.size(-1)\n",
    "        enc_hidden = (torch.zeros(1, 1, enc_obj.embed_size, device=device), torch.zeros(1, 1, enc_obj.embed_size, device=device))\n",
    "\n",
    "        all_enc_outputs = torch.zeros(60, enc_obj.embed_size, device=device)\n",
    "\n",
    "        for i in range(Ts):\n",
    "            enc_output, enc_hidden = enc_obj(source_sentence[i], enc_hidden)\n",
    "            all_enc_outputs[i] += enc_output[0, 0]\n",
    "\n",
    "        dec_input = torch.tensor([[2]], device=device)  # SOS\n",
    "\n",
    "        dec_hidden = (enc_hidden[0], torch.zeros(1, 1, dec_obj.embed_size, device=device))\n",
    "\n",
    "        predicted = []\n",
    "\n",
    "        for i in range(60):\n",
    "            dec_output, dec_hidden = dec_obj(dec_input, dec_hidden)\n",
    "            _ , index = dec_output.data.topk(1)\n",
    "            if index.item() == 0:\n",
    "                #decoded_words.append('<EOS>')\n",
    "                break\n",
    "            else:\n",
    "                predicted.append(target_vocab_dict[index.item()])\n",
    "\n",
    "            dec_input = index.squeeze().detach()\n",
    "\n",
    "#     print(predicted)\n",
    "#     print(target)\n",
    "    return bleu_score([predicted], [[target]])"
   ]
  },
  {
   "cell_type": "code",
   "execution_count": 39,
   "metadata": {},
   "outputs": [],
   "source": [
    "def evaluate_model(enc_obj, dec_obj, source_test, target_test, target_vocab_dict):\n",
    "    \n",
    "    # returns the average bleu score for the model with the given test data\n",
    "    \n",
    "    total_bleu = 0\n",
    "    for i in range(len(source_test)):\n",
    "        source_sentence = torch.cuda.LongTensor(source_test[i])\n",
    "        target = [target_vocab_dict[x] for x in target_test[i][:-1]]\n",
    "        bleu = eval_bleu(enc_obj, dec_obj, source_sentence, target, target_vocab_dict)\n",
    "        total_bleu += bleu\n",
    "    \n",
    "    return total_bleu/len(source_test)"
   ]
  },
  {
   "cell_type": "code",
   "execution_count": 50,
   "metadata": {},
   "outputs": [
    {
     "data": {
      "text/plain": [
       "0.0"
      ]
     },
     "execution_count": 50,
     "metadata": {},
     "output_type": "execute_result"
    }
   ],
   "source": [
    "evaluate_model(encoder, decoder, X_test, Y_test, TAM.index_word)"
   ]
  },
  {
   "cell_type": "code",
   "execution_count": null,
   "metadata": {},
   "outputs": [],
   "source": []
  }
 ],
 "metadata": {
  "kernelspec": {
   "display_name": "Python 3",
   "language": "python",
   "name": "python3"
  },
  "language_info": {
   "codemirror_mode": {
    "name": "ipython",
    "version": 3
   },
   "file_extension": ".py",
   "mimetype": "text/x-python",
   "name": "python",
   "nbconvert_exporter": "python",
   "pygments_lexer": "ipython3",
   "version": "3.7.4"
  }
 },
 "nbformat": 4,
 "nbformat_minor": 2
}
